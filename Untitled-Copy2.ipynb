{
 "cells": [
  {
   "cell_type": "code",
   "execution_count": 1,
   "id": "c639e355-87f0-4594-8f3e-03ed5d16fcca",
   "metadata": {},
   "outputs": [
    {
     "name": "stdout",
     "output_type": "stream",
     "text": [
      "my age is\n"
     ]
    }
   ],
   "source": [
    "print('my age is')"
   ]
  },
  {
   "cell_type": "code",
   "execution_count": 3,
   "id": "d7fd3c89-0e90-44dd-9fda-7eed3af696b1",
   "metadata": {},
   "outputs": [
    {
     "name": "stdout",
     "output_type": "stream",
     "text": [
      "age is ,48\n"
     ]
    }
   ],
   "source": [
    "age=50\n",
    "print(f'age is ,{48}')"
   ]
  },
  {
   "cell_type": "code",
   "execution_count": null,
   "id": "367cdcdc-be83-48b2-8592-036e4bf30abe",
   "metadata": {},
   "outputs": [],
   "source": []
  },
  {
   "cell_type": "code",
   "execution_count": 9,
   "id": "74d25e97-5e82-447e-9e05-31c99ce7ee47",
   "metadata": {},
   "outputs": [
    {
     "name": "stdout",
     "output_type": "stream",
     "text": [
      "my name is mohit i am trainner\n"
     ]
    }
   ],
   "source": [
    "#f string\n",
    "print('my name is mohit' ,end=' ')\n",
    "print('i am trainner')"
   ]
  },
  {
   "cell_type": "code",
   "execution_count": 11,
   "id": "50808aa6-9526-473e-955d-41667cc2dd10",
   "metadata": {},
   "outputs": [
    {
     "name": "stdout",
     "output_type": "stream",
     "text": [
      "jaipur is a nice city\n",
      "its in rajasthan its in india\n"
     ]
    }
   ],
   "source": [
    "print('jaipur is a nice city' ,end='\\n')\n",
    "print('its in rajasthan',end=' ')\n",
    "print('its in india')"
   ]
  },
  {
   "cell_type": "code",
   "execution_count": 37,
   "id": "5109d2cf-fd25-45d9-94ab-e73709dbb133",
   "metadata": {},
   "outputs": [
    {
     "name": "stdout",
     "output_type": "stream",
     "text": [
      "mohit is a good boi \n",
      "he is cricketer\n"
     ]
    }
   ],
   "source": [
    "print('mohit is a',end=' ')\n",
    "print('good boi',end=' \\n')\n",
    "print('he is cricketer')"
   ]
  },
  {
   "cell_type": "code",
   "execution_count": 65,
   "id": "e2780264-28d5-4fe3-be69-96f3a6f092e8",
   "metadata": {},
   "outputs": [],
   "source": [
    "# a=('jaipur')\n",
    "# int(a)\n",
    "# this is show error"
   ]
  },
  {
   "cell_type": "code",
   "execution_count": 67,
   "id": "08a9019b-f364-4d20-84ac-89047e049501",
   "metadata": {},
   "outputs": [],
   "source": [
    "# a=('jaipur')\n",
    "# float(a)\n",
    "# this is show error"
   ]
  },
  {
   "cell_type": "code",
   "execution_count": 45,
   "id": "7b97556f-b4a9-40f7-ab64-ea31f4e64bc9",
   "metadata": {},
   "outputs": [
    {
     "data": {
      "text/plain": [
       "True"
      ]
     },
     "execution_count": 45,
     "metadata": {},
     "output_type": "execute_result"
    }
   ],
   "source": [
    "bool(a)"
   ]
  },
  {
   "cell_type": "code",
   "execution_count": 47,
   "id": "0b16b60c-38e7-4bd2-9eaa-e3638aaaf11e",
   "metadata": {},
   "outputs": [
    {
     "data": {
      "text/plain": [
       "78.0"
      ]
     },
     "execution_count": 47,
     "metadata": {},
     "output_type": "execute_result"
    }
   ],
   "source": [
    "a=78\n",
    "float(a)"
   ]
  },
  {
   "cell_type": "code",
   "execution_count": 49,
   "id": "dbdbd4f0-d785-4116-84d1-2a4a42c6e3e2",
   "metadata": {},
   "outputs": [
    {
     "data": {
      "text/plain": [
       "True"
      ]
     },
     "execution_count": 49,
     "metadata": {},
     "output_type": "execute_result"
    }
   ],
   "source": [
    "bool(a)"
   ]
  },
  {
   "cell_type": "code",
   "execution_count": 53,
   "id": "89217a28-4470-4ae6-b73c-c747a0d810ee",
   "metadata": {},
   "outputs": [
    {
     "data": {
      "text/plain": [
       "'78'"
      ]
     },
     "execution_count": 53,
     "metadata": {},
     "output_type": "execute_result"
    }
   ],
   "source": [
    "str(a)"
   ]
  },
  {
   "cell_type": "code",
   "execution_count": 55,
   "id": "c0804b37-23e6-4ff6-93e3-f95961183c4b",
   "metadata": {},
   "outputs": [
    {
     "data": {
      "text/plain": [
       "6"
      ]
     },
     "execution_count": 55,
     "metadata": {},
     "output_type": "execute_result"
    }
   ],
   "source": [
    "b=6.3\n",
    "int(b)"
   ]
  },
  {
   "cell_type": "code",
   "execution_count": 57,
   "id": "b3928aee-cb73-49b5-9010-565473e97b20",
   "metadata": {},
   "outputs": [
    {
     "data": {
      "text/plain": [
       "'6.3'"
      ]
     },
     "execution_count": 57,
     "metadata": {},
     "output_type": "execute_result"
    }
   ],
   "source": [
    "str(b)"
   ]
  },
  {
   "cell_type": "code",
   "execution_count": 59,
   "id": "5c046eda-ef81-4bf1-9a01-dbd4e0c7998f",
   "metadata": {},
   "outputs": [
    {
     "data": {
      "text/plain": [
       "True"
      ]
     },
     "execution_count": 59,
     "metadata": {},
     "output_type": "execute_result"
    }
   ],
   "source": [
    "bool(b)"
   ]
  },
  {
   "cell_type": "code",
   "execution_count": 63,
   "id": "e696b403-0529-4c67-b08a-6de74b11f3ca",
   "metadata": {},
   "outputs": [
    {
     "data": {
      "text/plain": [
       "0.0"
      ]
     },
     "execution_count": 63,
     "metadata": {},
     "output_type": "execute_result"
    }
   ],
   "source": [
    "a=0\n",
    "float(a)"
   ]
  },
  {
   "cell_type": "code",
   "execution_count": 71,
   "id": "1e07e5ce-84a0-4058-8f48-9bfb8e978a9b",
   "metadata": {},
   "outputs": [],
   "source": [
    "# e= ' '\n",
    "# float(e)\n",
    "\n",
    "# this is show error"
   ]
  },
  {
   "cell_type": "code",
   "execution_count": 75,
   "id": "26cadc49-67b4-4dfb-90ae-0fe9e0bd2292",
   "metadata": {},
   "outputs": [
    {
     "name": "stdout",
     "output_type": "stream",
     "text": [
      "30\n",
      "-10\n",
      "200\n",
      "0.5\n",
      "10\n",
      "0\n",
      "100000000000000000000\n"
     ]
    }
   ],
   "source": [
    "#operators\n",
    "#arithnetic operators\n",
    "#(+,-,*,/,%,//,**)\n",
    "a=10\n",
    "b=20\n",
    "print(a+b)\n",
    "print(a-b)\n",
    "print(a*b)\n",
    "print(a/b)\n",
    "print(a%b)\n",
    "print(a//b)\n",
    "print(a**b)"
   ]
  },
  {
   "cell_type": "code",
   "execution_count": 77,
   "id": "c5f2c817-4119-4388-a832-2e30395ceb7e",
   "metadata": {},
   "outputs": [
    {
     "name": "stdout",
     "output_type": "stream",
     "text": [
      "False\n",
      "True\n",
      "True\n",
      "False\n",
      "10\n",
      "True\n",
      "False\n"
     ]
    }
   ],
   "source": [
    "#comparison operators\n",
    "#(==, != ,<, > ,<=, >=)\n",
    "print(a==b)\n",
    "print(a!=b)\n",
    "print(a<b)\n",
    "print(a>b)\n",
    "print(a<=b)\n",
    "print(a>=b)\n"
   ]
  },
  {
   "cell_type": "code",
   "execution_count": 95,
   "id": "f4d00d9a-3b95-483d-940e-fb171df39f43",
   "metadata": {},
   "outputs": [
    {
     "name": "stdout",
     "output_type": "stream",
     "text": [
      "9\n",
      "2\n",
      "8\n",
      "4.0\n",
      "16.0\n",
      "8.0\n",
      "0.0\n"
     ]
    }
   ],
   "source": [
    "# assignment operators \n",
    "#unary operand\n",
    "# (+=, -=, *=, /=, **=, //=, %=)\n",
    "x=5\n",
    "x+=4\n",
    "print(x)\n",
    "x-=7\n",
    "print(x)\n",
    "x*=4\n",
    "print(x)\n",
    "x/=2\n",
    "print(x)\n",
    "x**=2\n",
    "print(x)\n",
    "x//=2\n",
    "print(x)\n",
    "x%=2\n",
    "print(x)\n"
   ]
  },
  {
   "cell_type": "code",
   "execution_count": 123,
   "id": "7879fce7-14ad-4f68-bafb-013ab4a781d5",
   "metadata": {},
   "outputs": [
    {
     "name": "stdout",
     "output_type": "stream",
     "text": [
      "47\n",
      "44\n",
      "220\n",
      "110.0\n",
      "146410000.0\n",
      "16267777.0\n",
      "2.0\n"
     ]
    }
   ],
   "source": [
    "y=45\n",
    "y+=2\n",
    "print(y)\n",
    "y-=3\n",
    "print(y)\n",
    "y*=5\n",
    "print(y)\n",
    "y/=2\n",
    "print(y)\n",
    "y**=4\n",
    "print(y)\n",
    "y//=9\n",
    "print(y)\n",
    "y%=5\n",
    "print(y)\n",
    "\n"
   ]
  },
  {
   "cell_type": "code",
   "execution_count": null,
   "id": "87ace692-7f71-48d3-85fd-a2a0eae11294",
   "metadata": {},
   "outputs": [],
   "source": [
    "# Q.  5+4-3**6//5*6/7%3 homework!!\n",
    "\n",
    "\n"
   ]
  }
 ],
 "metadata": {
  "kernelspec": {
   "display_name": "Python 3 (ipykernel)",
   "language": "python",
   "name": "python3"
  },
  "language_info": {
   "codemirror_mode": {
    "name": "ipython",
    "version": 3
   },
   "file_extension": ".py",
   "mimetype": "text/x-python",
   "name": "python",
   "nbconvert_exporter": "python",
   "pygments_lexer": "ipython3",
   "version": "3.12.4"
  }
 },
 "nbformat": 4,
 "nbformat_minor": 5
}
