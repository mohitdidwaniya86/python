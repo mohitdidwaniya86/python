{
 "cells": [
  {
   "cell_type": "code",
   "execution_count": 1,
   "id": "694e06dc-b5de-4ddf-94df-87caf83c126c",
   "metadata": {},
   "outputs": [
    {
     "name": "stdout",
     "output_type": "stream",
     "text": [
      "89\n"
     ]
    }
   ],
   "source": [
    "print(89)"
   ]
  },
  {
   "cell_type": "code",
   "execution_count": 3,
   "id": "95f88046-02f8-4619-a41e-bdb6af028364",
   "metadata": {},
   "outputs": [
    {
     "name": "stdout",
     "output_type": "stream",
     "text": [
      "2.3\n"
     ]
    }
   ],
   "source": [
    "print(2.3)"
   ]
  },
  {
   "cell_type": "code",
   "execution_count": 5,
   "id": "d09b13ac-6f24-4b9d-9f48-1804f4219688",
   "metadata": {},
   "outputs": [
    {
     "name": "stdout",
     "output_type": "stream",
     "text": [
      "jaipur\n"
     ]
    }
   ],
   "source": [
    "print('''jaipur''')"
   ]
  },
  {
   "cell_type": "code",
   "execution_count": 7,
   "id": "e1952465-6524-4489-a9f3-afc71a1f2789",
   "metadata": {},
   "outputs": [
    {
     "name": "stdout",
     "output_type": "stream",
     "text": [
      "mohit\n"
     ]
    }
   ],
   "source": [
    "print(\"mohit\")"
   ]
  },
  {
   "cell_type": "code",
   "execution_count": 75,
   "id": "f1ac203a-51a4-4f8f-9fdc-6235be1e673b",
   "metadata": {},
   "outputs": [
    {
     "name": "stdout",
     "output_type": "stream",
     "text": [
      "True\n"
     ]
    }
   ],
   "source": [
    "a=True\n",
    "print(a)"
   ]
  },
  {
   "cell_type": "code",
   "execution_count": 11,
   "id": "708a05ed-b53c-46ea-81b0-e308756081a9",
   "metadata": {},
   "outputs": [
    {
     "name": "stdout",
     "output_type": "stream",
     "text": [
      "True\n"
     ]
    }
   ],
   "source": [
    "a=True\n",
    "print(a)"
   ]
  },
  {
   "cell_type": "code",
   "execution_count": 13,
   "id": "79bed699-e452-4ac3-befa-4448f167c564",
   "metadata": {},
   "outputs": [
    {
     "name": "stdout",
     "output_type": "stream",
     "text": [
      "False\n"
     ]
    }
   ],
   "source": [
    "b=False\n",
    "print(b)\n"
   ]
  },
  {
   "cell_type": "code",
   "execution_count": 15,
   "id": "a3d6fa6f-42c5-4125-91ad-8ed030718d9e",
   "metadata": {},
   "outputs": [
    {
     "data": {
      "text/plain": [
       "int"
      ]
     },
     "execution_count": 15,
     "metadata": {},
     "output_type": "execute_result"
    }
   ],
   "source": [
    "type(7)"
   ]
  },
  {
   "cell_type": "code",
   "execution_count": 17,
   "id": "7c686d87-288b-4c92-bcc1-6cc0d0f9a89c",
   "metadata": {},
   "outputs": [
    {
     "name": "stdout",
     "output_type": "stream",
     "text": [
      "<class 'int'>\n"
     ]
    }
   ],
   "source": [
    "print(type(6))"
   ]
  },
  {
   "cell_type": "code",
   "execution_count": 19,
   "id": "30e65f0d-7295-4cba-94d1-a86e1a2f0809",
   "metadata": {},
   "outputs": [
    {
     "data": {
      "text/plain": [
       "7"
      ]
     },
     "execution_count": 19,
     "metadata": {},
     "output_type": "execute_result"
    }
   ],
   "source": [
    "a=7\n",
    "a"
   ]
  },
  {
   "cell_type": "code",
   "execution_count": 21,
   "id": "6aa4b26e-77c7-49a6-9c27-0cc2fcb81331",
   "metadata": {},
   "outputs": [
    {
     "data": {
      "text/plain": [
       "7"
      ]
     },
     "execution_count": 21,
     "metadata": {},
     "output_type": "execute_result"
    }
   ],
   "source": [
    "a"
   ]
  },
  {
   "cell_type": "code",
   "execution_count": 23,
   "id": "df9405de-abca-4647-97da-a12459fec257",
   "metadata": {},
   "outputs": [
    {
     "name": "stdout",
     "output_type": "stream",
     "text": [
      "<class 'str'>\n"
     ]
    }
   ],
   "source": [
    "print(type('65.l' '.3'))"
   ]
  },
  {
   "cell_type": "code",
   "execution_count": 69,
   "id": "99a98c6d-0c19-49a9-97ec-c7454cc33599",
   "metadata": {},
   "outputs": [],
   "source": [
    "# print(type(45.3,45.6))  show erroe"
   ]
  },
  {
   "cell_type": "code",
   "execution_count": 41,
   "id": "b1a023d0-1395-4c40-9a8d-fd9b6c44e32c",
   "metadata": {},
   "outputs": [],
   "source": [
    "# type(78, 1.2, \"sss\")  show error"
   ]
  },
  {
   "cell_type": "code",
   "execution_count": 39,
   "id": "02aa38a4-a502-440c-8f36-ed3ddbd6e7dd",
   "metadata": {},
   "outputs": [],
   "source": [
    "# print(type(45,6.3))  show erroe"
   ]
  },
  {
   "cell_type": "code",
   "execution_count": 31,
   "id": "07770572-5363-4083-b423-e8de146e81d2",
   "metadata": {},
   "outputs": [
    {
     "name": "stdout",
     "output_type": "stream",
     "text": [
      "<class 'str'>\n"
     ]
    }
   ],
   "source": [
    "print(type('45'))"
   ]
  },
  {
   "cell_type": "code",
   "execution_count": 33,
   "id": "6b67a466-a784-46bb-8e3a-f7df867a5d2a",
   "metadata": {},
   "outputs": [
    {
     "name": "stdout",
     "output_type": "stream",
     "text": [
      "<class 'bool'>\n"
     ]
    }
   ],
   "source": [
    "print(type(True))"
   ]
  },
  {
   "cell_type": "code",
   "execution_count": 35,
   "id": "5efd5d7f-cf7e-4b20-b7d7-b1f431437aac",
   "metadata": {},
   "outputs": [
    {
     "name": "stdout",
     "output_type": "stream",
     "text": [
      "<class 'bool'>\n"
     ]
    }
   ],
   "source": [
    "print(type(False))"
   ]
  },
  {
   "cell_type": "code",
   "execution_count": 37,
   "id": "a4d50975-15ec-412a-a69a-731d65170c1e",
   "metadata": {},
   "outputs": [
    {
     "data": {
      "text/plain": [
       "float"
      ]
     },
     "execution_count": 37,
     "metadata": {},
     "output_type": "execute_result"
    }
   ],
   "source": [
    "type(9.6)"
   ]
  },
  {
   "cell_type": "code",
   "execution_count": 73,
   "id": "e1f42740-06f4-457c-8801-12f758d6ec1c",
   "metadata": {},
   "outputs": [
    {
     "name": "stdout",
     "output_type": "stream",
     "text": [
      "<class 'str'>\n"
     ]
    }
   ],
   "source": [
    "print(type('maa' 'raha'))"
   ]
  },
  {
   "cell_type": "code",
   "execution_count": 87,
   "id": "c58ed926-878e-4188-880d-41f611529739",
   "metadata": {},
   "outputs": [
    {
     "name": "stdout",
     "output_type": "stream",
     "text": [
      "i am from bhilwara andnow  i am living in jaipur\n"
     ]
    }
   ],
   "source": [
    "#concatination using plus or f-strig\n",
    "print('i am from bhilwara and'+'now  i am living in jaipur')"
   ]
  },
  {
   "cell_type": "code",
   "execution_count": 89,
   "id": "1d8207a4-a619-4a36-8190-3df0455022a2",
   "metadata": {},
   "outputs": [
    {
     "data": {
      "text/plain": [
       "bool"
      ]
     },
     "execution_count": 89,
     "metadata": {},
     "output_type": "execute_result"
    }
   ],
   "source": [
    "type(True)"
   ]
  },
  {
   "cell_type": "code",
   "execution_count": 95,
   "id": "de7fa665-31aa-415d-be19-537b06a3c8b2",
   "metadata": {},
   "outputs": [
    {
     "name": "stdout",
     "output_type": "stream",
     "text": [
      "my age is 18 years old\n"
     ]
    }
   ],
   "source": [
    "age=18\n",
    "print('my age is' ,age,'years old')"
   ]
  },
  {
   "cell_type": "code",
   "execution_count": 97,
   "id": "c1466b84-3c49-47ce-a814-f13fec6fc6e8",
   "metadata": {},
   "outputs": [
    {
     "name": "stdout",
     "output_type": "stream",
     "text": [
      "my age is 90 years old\n"
     ]
    }
   ],
   "source": [
    "print('my age is' ,90,'years old')"
   ]
  },
  {
   "cell_type": "code",
   "execution_count": 105,
   "id": "8fb0abeb-bdc6-4e06-adf7-31c4c7299ca3",
   "metadata": {},
   "outputs": [
    {
     "name": "stdout",
     "output_type": "stream",
     "text": [
      "my age is 18 years old\n"
     ]
    }
   ],
   "source": [
    "#using f string\n",
    "print(f'my age is {age} years old')\n"
   ]
  },
  {
   "cell_type": "code",
   "execution_count": 113,
   "id": "83cd87df-9a24-4292-81f8-f6bd11293afa",
   "metadata": {},
   "outputs": [
    {
     "name": "stdout",
     "output_type": "stream",
     "text": [
      "my age is 78 years old\n"
     ]
    }
   ],
   "source": [
    "print(f'my age is {age1} years old')\n",
    "age1=78"
   ]
  },
  {
   "cell_type": "code",
   "execution_count": 115,
   "id": "80cb6442-b83e-4926-981c-e959be664c8c",
   "metadata": {},
   "outputs": [
    {
     "name": "stdout",
     "output_type": "stream",
     "text": [
      "my age is 455 years old\n"
     ]
    }
   ],
   "source": [
    "print(f'my age is {455} years old')"
   ]
  },
  {
   "cell_type": "code",
   "execution_count": 117,
   "id": "77bbf2b7-c6c0-450b-bd06-fa12fb61968c",
   "metadata": {},
   "outputs": [
    {
     "name": "stdout",
     "output_type": "stream",
     "text": [
      "my age is 3.6 years old\n"
     ]
    }
   ],
   "source": [
    "print(f'my age is {3.6} years old')"
   ]
  },
  {
   "cell_type": "code",
   "execution_count": 129,
   "id": "237284d7-0d66-4cee-88a9-9f788362b8c6",
   "metadata": {},
   "outputs": [
    {
     "name": "stdout",
     "output_type": "stream",
     "text": [
      "jaipur is the nice place and \n",
      "it is also called pink city and it is capital of rajasthan\n"
     ]
    }
   ],
   "source": [
    "print('jaipur is the nice place and',end=' \\n')\n",
    "print('it is also called pink city and',end=\" \")\n",
    "print('it is capital of rajasthan')"
   ]
  },
  {
   "cell_type": "code",
   "execution_count": 137,
   "id": "c263f5f4-a080-4564-96d1-c4386ffb9da6",
   "metadata": {},
   "outputs": [
    {
     "name": "stdout",
     "output_type": "stream",
     "text": [
      "how are u i am fine\n"
     ]
    }
   ],
   "source": [
    "print('how are u'   , end=' ' )\n",
    "print('i am fine')"
   ]
  },
  {
   "cell_type": "code",
   "execution_count": 139,
   "id": "3f3bd767-3f57-4a28-a9c6-44ef11937825",
   "metadata": {},
   "outputs": [
    {
     "data": {
      "text/plain": [
       "56.0"
      ]
     },
     "execution_count": 139,
     "metadata": {},
     "output_type": "execute_result"
    }
   ],
   "source": [
    "#Convert all types...>\n",
    "a=56\n",
    "float(a)"
   ]
  },
  {
   "cell_type": "code",
   "execution_count": 141,
   "id": "c0e60e08-e7c0-43bc-af9a-dd6c8dabd748",
   "metadata": {},
   "outputs": [
    {
     "data": {
      "text/plain": [
       "89.0"
      ]
     },
     "execution_count": 141,
     "metadata": {},
     "output_type": "execute_result"
    }
   ],
   "source": [
    "float(89)"
   ]
  },
  {
   "cell_type": "code",
   "execution_count": 143,
   "id": "a1f3f8fc-6a3b-4176-9b53-56627dc72a1e",
   "metadata": {},
   "outputs": [
    {
     "data": {
      "text/plain": [
       "1.3"
      ]
     },
     "execution_count": 143,
     "metadata": {},
     "output_type": "execute_result"
    }
   ],
   "source": [
    "float(1.3)"
   ]
  },
  {
   "cell_type": "code",
   "execution_count": 145,
   "id": "ba256d34-283a-44c1-b90e-d56966c265bf",
   "metadata": {},
   "outputs": [
    {
     "data": {
      "text/plain": [
       "'56'"
      ]
     },
     "execution_count": 145,
     "metadata": {},
     "output_type": "execute_result"
    }
   ],
   "source": [
    "str(a)"
   ]
  },
  {
   "cell_type": "code",
   "execution_count": 147,
   "id": "05f658d0-8a04-488b-b226-ab66f964ea55",
   "metadata": {},
   "outputs": [
    {
     "data": {
      "text/plain": [
       "True"
      ]
     },
     "execution_count": 147,
     "metadata": {},
     "output_type": "execute_result"
    }
   ],
   "source": [
    "bool(a)"
   ]
  },
  {
   "cell_type": "code",
   "execution_count": 149,
   "id": "7d0fc9c2-96bc-4d47-b019-8873e45dd143",
   "metadata": {},
   "outputs": [
    {
     "data": {
      "text/plain": [
       "63"
      ]
     },
     "execution_count": 149,
     "metadata": {},
     "output_type": "execute_result"
    }
   ],
   "source": [
    "b=63.6\n",
    "int(b)"
   ]
  },
  {
   "cell_type": "code",
   "execution_count": 151,
   "id": "9fcbfa6d-c213-47d2-8212-583660b353df",
   "metadata": {},
   "outputs": [
    {
     "data": {
      "text/plain": [
       "'63.6'"
      ]
     },
     "execution_count": 151,
     "metadata": {},
     "output_type": "execute_result"
    }
   ],
   "source": [
    "str(b)"
   ]
  },
  {
   "cell_type": "code",
   "execution_count": 153,
   "id": "be18626f-6a3c-475b-ab3f-bd07a4dc06f0",
   "metadata": {},
   "outputs": [
    {
     "data": {
      "text/plain": [
       "True"
      ]
     },
     "execution_count": 153,
     "metadata": {},
     "output_type": "execute_result"
    }
   ],
   "source": [
    "bool(b)"
   ]
  },
  {
   "cell_type": "code",
   "execution_count": 157,
   "id": "45b4d062-5c4b-4351-b7f2-c20384ae94eb",
   "metadata": {},
   "outputs": [
    {
     "data": {
      "text/plain": [
       "True"
      ]
     },
     "execution_count": 157,
     "metadata": {},
     "output_type": "execute_result"
    }
   ],
   "source": [
    "bool(43)"
   ]
  },
  {
   "cell_type": "code",
   "execution_count": 161,
   "id": "474d376f-b79e-4bdf-966e-c1349141951b",
   "metadata": {},
   "outputs": [],
   "source": [
    "# z='raaaja'\n",
    "# int(z)  show error"
   ]
  },
  {
   "cell_type": "code",
   "execution_count": 167,
   "id": "b84aa5e7-e2eb-46c2-a03a-8b76b80c256e",
   "metadata": {},
   "outputs": [],
   "source": [
    "# float(z)  show error"
   ]
  },
  {
   "cell_type": "code",
   "execution_count": 169,
   "id": "57b57374-1d63-4dad-98ae-8560584ca066",
   "metadata": {},
   "outputs": [
    {
     "data": {
      "text/plain": [
       "True"
      ]
     },
     "execution_count": 169,
     "metadata": {},
     "output_type": "execute_result"
    }
   ],
   "source": [
    "bool(z)"
   ]
  },
  {
   "cell_type": "code",
   "execution_count": 171,
   "id": "d676f768-1211-4454-890c-0c45feb9e947",
   "metadata": {},
   "outputs": [
    {
     "data": {
      "text/plain": [
       "1"
      ]
     },
     "execution_count": 171,
     "metadata": {},
     "output_type": "execute_result"
    }
   ],
   "source": [
    "t=True\n",
    "int(t)"
   ]
  },
  {
   "cell_type": "code",
   "execution_count": 173,
   "id": "07efc880-0b90-4d96-a61f-e2acb06f5623",
   "metadata": {},
   "outputs": [
    {
     "data": {
      "text/plain": [
       "1.0"
      ]
     },
     "execution_count": 173,
     "metadata": {},
     "output_type": "execute_result"
    }
   ],
   "source": [
    "float(t)"
   ]
  },
  {
   "cell_type": "code",
   "execution_count": 175,
   "id": "eaf025aa-4aef-4d3c-ae7e-f23f0270be65",
   "metadata": {},
   "outputs": [
    {
     "data": {
      "text/plain": [
       "'True'"
      ]
     },
     "execution_count": 175,
     "metadata": {},
     "output_type": "execute_result"
    }
   ],
   "source": [
    "str(t)"
   ]
  },
  {
   "cell_type": "code",
   "execution_count": 179,
   "id": "90fa81bc-6261-4565-9e9e-64b6cb7c6cf8",
   "metadata": {},
   "outputs": [
    {
     "data": {
      "text/plain": [
       "0"
      ]
     },
     "execution_count": 179,
     "metadata": {},
     "output_type": "execute_result"
    }
   ],
   "source": [
    "f=False\n",
    "int(f)\n"
   ]
  },
  {
   "cell_type": "code",
   "execution_count": 181,
   "id": "729080a3-becc-49a6-b18d-468be671576e",
   "metadata": {},
   "outputs": [
    {
     "data": {
      "text/plain": [
       "0.0"
      ]
     },
     "execution_count": 181,
     "metadata": {},
     "output_type": "execute_result"
    }
   ],
   "source": [
    "float(f)"
   ]
  },
  {
   "cell_type": "code",
   "execution_count": 183,
   "id": "f4f66cfe-cea1-4e77-99bf-3ff4dfff359c",
   "metadata": {},
   "outputs": [
    {
     "data": {
      "text/plain": [
       "'False'"
      ]
     },
     "execution_count": 183,
     "metadata": {},
     "output_type": "execute_result"
    }
   ],
   "source": [
    "str(f)"
   ]
  },
  {
   "cell_type": "code",
   "execution_count": 217,
   "id": "235ee787-9021-4909-ac8a-a04f051a4289",
   "metadata": {},
   "outputs": [
    {
     "name": "stdout",
     "output_type": "stream",
     "text": [
      "29576\n",
      "29556\n",
      "295660\n",
      "2956.6\n",
      "6\n",
      "510417699360834135190994089587483444371915776\n",
      "2956\n"
     ]
    }
   ],
   "source": [
    "#operators\n",
    "#airthemetic operators\n",
    "#(+,-,*,/,%,//,**)\n",
    "a=10\n",
    "b=66\n",
    "print(a+b)\n",
    "print(a-b)\n",
    "print(a*b)\n",
    "print(a/b)\n",
    "print(a%b)\n",
    "print(a**b) #power\n",
    "print(a//b) #round of answer(floor divisoion)\n"
   ]
  },
  {
   "cell_type": "code",
   "execution_count": 239,
   "id": "efd4b904-2d86-4455-8fee-e0ece85f98ab",
   "metadata": {},
   "outputs": [
    {
     "name": "stdout",
     "output_type": "stream",
     "text": [
      "False\n",
      "True\n",
      "False\n",
      "True\n",
      "False\n",
      "True\n"
     ]
    }
   ],
   "source": [
    "#comparison operators\n",
    "#(==, != ,<, > ,<=, >=)\n",
    "a=86\n",
    "b=9\n",
    "\n",
    "print(a==b)\n",
    "print(a!=b)\n",
    "print(a<b)\n",
    "print(a>b)\n",
    "print(a<=b)\n",
    "print(a>=b)\n"
   ]
  },
  {
   "cell_type": "code",
   "execution_count": 261,
   "id": "7cc24ea8-d330-4278-9a86-755bbeb0905e",
   "metadata": {},
   "outputs": [
    {
     "name": "stdout",
     "output_type": "stream",
     "text": [
      "61\n",
      "55\n",
      "110\n",
      "55.0\n",
      "3025.0\n",
      "1008.0\n",
      "0.0\n"
     ]
    }
   ],
   "source": [
    "# assignment operators \n",
    "#unary operand\n",
    "# (+=, -=, *=, /=, **=, //=, %=)\n",
    "x=56\n",
    "\n",
    "x+=5\n",
    "print(x)\n",
    "\n",
    "x-=6\n",
    "print(x)\n",
    "\n",
    "x*=2\n",
    "print(x)\n",
    "\n",
    "x/=2\n",
    "print(x)\n",
    "\n",
    "x**=2\n",
    "print(x)\n",
    "\n",
    "x//=3\n",
    "print(x)\n",
    "\n",
    "x%=2\n",
    "print(x)\n",
    "\n",
    "# x=%3\n",
    "# print(x)  invalid syntax nd show error\n",
    "\n"
   ]
  },
  {
   "cell_type": "code",
   "execution_count": 263,
   "id": "8930a92b-3594-4072-942b-be4c0f57ca79",
   "metadata": {},
   "outputs": [
    {
     "data": {
      "text/plain": [
       "7.714285714285708"
      ]
     },
     "execution_count": 263,
     "metadata": {},
     "output_type": "execute_result"
    }
   ],
   "source": [
    "5+4-3**6//5*6/7%3"
   ]
  },
  {
   "cell_type": "code",
   "execution_count": 299,
   "id": "00b4a884-54ce-4172-8bb7-d5ce264bfcd6",
   "metadata": {},
   "outputs": [
    {
     "name": "stdout",
     "output_type": "stream",
     "text": [
      "False\n",
      "True\n",
      "True\n",
      "False\n"
     ]
    },
    {
     "data": {
      "text/plain": [
       "False"
      ]
     },
     "execution_count": 299,
     "metadata": {},
     "output_type": "execute_result"
    }
   ],
   "source": [
    "#logical operators\n",
    "# or not And\n",
    "m1=99\n",
    "m2=63\n",
    "m3=89\n",
    "print(m1>m2 and m2>m3 )\n",
    "print(m1>m2 and m2<m3 )\n",
    "print(m1>m2 or m2>m3 )\n",
    "print(m1<m2 or m2>m3 )\n",
    "mt=78\n",
    "not mt\n",
    "\n",
    "\n"
   ]
  },
  {
   "cell_type": "code",
   "execution_count": 303,
   "id": "872a620c-2ff2-413a-bc1c-e5f1946b936a",
   "metadata": {},
   "outputs": [
    {
     "name": "stdout",
     "output_type": "stream",
     "text": [
      "True\n"
     ]
    }
   ],
   "source": [
    "print(not m1<m2)"
   ]
  },
  {
   "cell_type": "code",
   "execution_count": 315,
   "id": "ed22115d-570c-43be-bfd6-68e2e5af4e0c",
   "metadata": {},
   "outputs": [
    {
     "data": {
      "text/plain": [
       "False"
      ]
     },
     "execution_count": 315,
     "metadata": {},
     "output_type": "execute_result"
    }
   ],
   "source": [
    "# idemtity operators\n",
    "a= [1,3,2]\n",
    "b= [1,3,2]\n",
    "a is b"
   ]
  },
  {
   "cell_type": "code",
   "execution_count": 317,
   "id": "d6604949-9d1b-485b-bc4e-109c87d2bb61",
   "metadata": {},
   "outputs": [
    {
     "name": "stdout",
     "output_type": "stream",
     "text": [
      "1684255355648\n"
     ]
    }
   ],
   "source": [
    "print(id (a))  #location "
   ]
  },
  {
   "cell_type": "code",
   "execution_count": 319,
   "id": "996f3d4f-c10c-4b60-a797-dc1bb74ccb57",
   "metadata": {},
   "outputs": [
    {
     "data": {
      "text/plain": [
       "1684261999872"
      ]
     },
     "execution_count": 319,
     "metadata": {},
     "output_type": "execute_result"
    }
   ],
   "source": [
    "id (b)"
   ]
  },
  {
   "cell_type": "code",
   "execution_count": 323,
   "id": "ae2094f5-cf4d-4e80-96d2-4a1a60228327",
   "metadata": {},
   "outputs": [
    {
     "data": {
      "text/plain": [
       "False"
      ]
     },
     "execution_count": 323,
     "metadata": {},
     "output_type": "execute_result"
    }
   ],
   "source": [
    "l1= [1,3,4,5]\n",
    "66 in l1"
   ]
  },
  {
   "cell_type": "code",
   "execution_count": null,
   "id": "b5eb8c7d-b9cc-4811-9fe9-e1d076c59782",
   "metadata": {},
   "outputs": [],
   "source": []
  }
 ],
 "metadata": {
  "kernelspec": {
   "display_name": "Python 3 (ipykernel)",
   "language": "python",
   "name": "python3"
  },
  "language_info": {
   "codemirror_mode": {
    "name": "ipython",
    "version": 3
   },
   "file_extension": ".py",
   "mimetype": "text/x-python",
   "name": "python",
   "nbconvert_exporter": "python",
   "pygments_lexer": "ipython3",
   "version": "3.12.4"
  }
 },
 "nbformat": 4,
 "nbformat_minor": 5
}
