{
 "cells": [
  {
   "cell_type": "code",
   "execution_count": 1,
   "id": "e52abf07-962e-4109-b13d-a0c0768b5021",
   "metadata": {},
   "outputs": [
    {
     "name": "stdout",
     "output_type": "stream",
     "text": [
      "[0, 1, 1, 2, 3, 3, 4, 5, 8]\n"
     ]
    }
   ],
   "source": [
    "list1=[1,2,5,8,1,3,0,3,4]\n",
    "list1.sort()\n",
    "print(list1)"
   ]
  },
  {
   "cell_type": "code",
   "execution_count": 5,
   "id": "ae5fc4ad-8ea1-4f5b-8305-b0a196fd2871",
   "metadata": {},
   "outputs": [
    {
     "name": "stdout",
     "output_type": "stream",
     "text": [
      "[8, 5, 4, 3, 3, 2, 1, 1, 0]\n"
     ]
    }
   ],
   "source": [
    "list1.sort(reverse=True)\n",
    "print(list1)"
   ]
  },
  {
   "cell_type": "code",
   "execution_count": 11,
   "id": "e4cae55d-fbd8-44de-a855-496f9d330b91",
   "metadata": {},
   "outputs": [
    {
     "data": {
      "text/plain": [
       "[6, 8, 9, 6, 99, 1]"
      ]
     },
     "execution_count": 11,
     "metadata": {},
     "output_type": "execute_result"
    }
   ],
   "source": [
    "list2=[1,99,6,9,8,6]\n",
    "list2.reverse()\n",
    "list2"
   ]
  },
  {
   "cell_type": "code",
   "execution_count": 13,
   "id": "f5c663e6-d72d-4d2a-a1c2-91fc3301032b",
   "metadata": {},
   "outputs": [],
   "source": [
    "list3=list2.copy()"
   ]
  },
  {
   "cell_type": "code",
   "execution_count": 15,
   "id": "d5cc0d13-e8bc-42b0-a53b-fbd5ac9b82cb",
   "metadata": {},
   "outputs": [
    {
     "data": {
      "text/plain": [
       "[6, 8, 9, 6, 99, 1]"
      ]
     },
     "execution_count": 15,
     "metadata": {},
     "output_type": "execute_result"
    }
   ],
   "source": [
    "list3"
   ]
  },
  {
   "cell_type": "code",
   "execution_count": 19,
   "id": "67354ae8-a32b-436f-9468-29190f6dd129",
   "metadata": {},
   "outputs": [
    {
     "data": {
      "text/plain": [
       "3"
      ]
     },
     "execution_count": 19,
     "metadata": {},
     "output_type": "execute_result"
    }
   ],
   "source": [
    "tuple1=(1,2,3,4,5,6,1,2,1,2,2,3,3,4)\n",
    "#tuple method= count and index\n",
    "\n",
    "tuple1.count(3)"
   ]
  },
  {
   "cell_type": "code",
   "execution_count": 122,
   "id": "342d5893-902d-4397-bc98-54e4ea074b9f",
   "metadata": {},
   "outputs": [
    {
     "data": {
      "text/plain": [
       "3"
      ]
     },
     "execution_count": 122,
     "metadata": {},
     "output_type": "execute_result"
    }
   ],
   "source": [
    "tuple1.index(4)"
   ]
  },
  {
   "cell_type": "code",
   "execution_count": 23,
   "id": "bdc2f789-d7d7-4a9a-8758-ce2dbe195108",
   "metadata": {},
   "outputs": [
    {
     "name": "stdout",
     "output_type": "stream",
     "text": [
      "[1, 2, 4, 5, 6, 7, 8, 4, 4, 9, 8, True, False, 1.3, 1.3, 5.6, 'raja', 'mohit', 'king']\n"
     ]
    }
   ],
   "source": [
    "my=[1,2,4,5,6,7,8,4,4,9,8,True,False,1.3,1.3,5.6,'raja','mohit']\n",
    "my.append('king')\n",
    "print(my)"
   ]
  },
  {
   "cell_type": "code",
   "execution_count": 25,
   "id": "4a40cdd0-fa35-4ec7-8422-50e3f5b90ead",
   "metadata": {},
   "outputs": [
    {
     "name": "stdout",
     "output_type": "stream",
     "text": [
      "[1, 2, 4, 5, 6, 7, 8, 4, 4, 9, 8, True, False, 1.3, 1.3, 5.6, 'raja', 'mohit', 'king', 'hitman', 9.3, 44]\n"
     ]
    }
   ],
   "source": [
    "my.extend(['hitman',9.3,44,])\n",
    "print(my)"
   ]
  },
  {
   "cell_type": "code",
   "execution_count": 27,
   "id": "4a26e7fb-7eff-4a6d-93da-2feaed907148",
   "metadata": {},
   "outputs": [
    {
     "name": "stdout",
     "output_type": "stream",
     "text": [
      "[100, 1, 2, 4, 5, 6, 7, 8, 4, 4, 9, 8, True, False, 1.3, 1.3, 5.6, 'raja', 'mohit', 'king', 'hitman', 9.3, 44]\n"
     ]
    }
   ],
   "source": [
    "my.insert(0,100)\n",
    "print(my)"
   ]
  },
  {
   "cell_type": "code",
   "execution_count": 29,
   "id": "dd756f6f-a91d-4f2d-8684-69838b21b7e5",
   "metadata": {},
   "outputs": [
    {
     "name": "stdout",
     "output_type": "stream",
     "text": [
      "[1, 2, 4, 5, 6, 7, 8, 4, 4, 9, 8, True, False, 1.3, 1.3, 5.6, 'raja', 'mohit', 'king', 'hitman', 9.3, 44]\n"
     ]
    }
   ],
   "source": [
    "my.remove(100)\n",
    "print(my)"
   ]
  },
  {
   "cell_type": "code",
   "execution_count": 31,
   "id": "a5e6ad08-1f91-4f7a-a5ca-cb6c3f6d78c0",
   "metadata": {},
   "outputs": [
    {
     "name": "stdout",
     "output_type": "stream",
     "text": [
      "[1, 2, 4, 5, 6, 7, 8, 4, 4, 9, 8, True, False, 1.3, 1.3, 5.6, 'raja', 'mohit', 'king', 'hitman', 9.3]\n"
     ]
    }
   ],
   "source": [
    "my.pop()\n",
    "print(my)"
   ]
  },
  {
   "cell_type": "code",
   "execution_count": 33,
   "id": "3c65d4d7-5e02-4295-8896-6404abae9c09",
   "metadata": {},
   "outputs": [
    {
     "data": {
      "text/plain": [
       "3"
      ]
     },
     "execution_count": 33,
     "metadata": {},
     "output_type": "execute_result"
    }
   ],
   "source": [
    "my.count(4)"
   ]
  },
  {
   "cell_type": "code",
   "execution_count": 37,
   "id": "32427211-254a-47d2-a3ca-715ac9e58aef",
   "metadata": {},
   "outputs": [
    {
     "data": {
      "text/plain": [
       "12"
      ]
     },
     "execution_count": 37,
     "metadata": {},
     "output_type": "execute_result"
    }
   ],
   "source": [
    "my.index(False)"
   ]
  },
  {
   "cell_type": "code",
   "execution_count": 39,
   "id": "0019846e-930c-4b6d-9f9b-7d7d5b95216a",
   "metadata": {},
   "outputs": [
    {
     "data": {
      "text/plain": [
       "0"
      ]
     },
     "execution_count": 39,
     "metadata": {},
     "output_type": "execute_result"
    }
   ],
   "source": [
    "my.index(True)"
   ]
  },
  {
   "cell_type": "code",
   "execution_count": 42,
   "id": "9d6899e7-ad12-41fb-b72b-02418fa4f8f7",
   "metadata": {},
   "outputs": [
    {
     "data": {
      "text/plain": [
       "0"
      ]
     },
     "execution_count": 42,
     "metadata": {},
     "output_type": "execute_result"
    }
   ],
   "source": [
    "my.index(True)"
   ]
  },
  {
   "cell_type": "code",
   "execution_count": 52,
   "id": "5ff151fe-6a9f-457e-8e2e-3b0e6e6f4a31",
   "metadata": {},
   "outputs": [],
   "source": [
    "# my.sort(reverse=True)\n",
    "# print(my)\n"
   ]
  },
  {
   "cell_type": "code",
   "execution_count": 54,
   "id": "6d26bfd9-49f3-41dc-a1bd-0e84dccefe59",
   "metadata": {},
   "outputs": [],
   "source": [
    "my.remove(1.3)"
   ]
  },
  {
   "cell_type": "code",
   "execution_count": 56,
   "id": "4ab9cc60-a59f-4ece-9109-fe592edfa764",
   "metadata": {},
   "outputs": [
    {
     "name": "stdout",
     "output_type": "stream",
     "text": [
      "[False, 1, True, 1.3, 2, 4, 4, 4, 5, 5.6, 6, 7, 8, 8, 9, 'raja', 'mohit', 'king', 'hitman', 9.3]\n"
     ]
    }
   ],
   "source": [
    "print(my)"
   ]
  },
  {
   "cell_type": "code",
   "execution_count": 58,
   "id": "577a64f3-2649-42fb-aa3c-abffc705fb18",
   "metadata": {},
   "outputs": [],
   "source": [
    "my.remove(5.6)"
   ]
  },
  {
   "cell_type": "code",
   "execution_count": 60,
   "id": "53c82723-d207-4dcd-abb2-64eda3b36d32",
   "metadata": {},
   "outputs": [
    {
     "data": {
      "text/plain": [
       "[False,\n",
       " 1,\n",
       " True,\n",
       " 1.3,\n",
       " 2,\n",
       " 4,\n",
       " 4,\n",
       " 4,\n",
       " 5,\n",
       " 6,\n",
       " 7,\n",
       " 8,\n",
       " 8,\n",
       " 9,\n",
       " 'raja',\n",
       " 'mohit',\n",
       " 'king',\n",
       " 'hitman',\n",
       " 9.3]"
      ]
     },
     "execution_count": 60,
     "metadata": {},
     "output_type": "execute_result"
    }
   ],
   "source": [
    "my"
   ]
  },
  {
   "cell_type": "code",
   "execution_count": 62,
   "id": "88959f08-0405-4ab1-a4a4-255101bb7729",
   "metadata": {},
   "outputs": [
    {
     "data": {
      "text/plain": [
       "[False, 1, True, 1.3, 2, 4, 4, 4, 5, 6, 7, 8, 8, 9, 'mohit', 9.3]"
      ]
     },
     "execution_count": 62,
     "metadata": {},
     "output_type": "execute_result"
    }
   ],
   "source": [
    "my.remove('raja')\n",
    "my.remove('king')\n",
    "my.remove('hitman')\n",
    "my"
   ]
  },
  {
   "cell_type": "code",
   "execution_count": 64,
   "id": "8c6776d1-937f-40b5-a037-35317bb6b897",
   "metadata": {},
   "outputs": [],
   "source": [
    "my.remove('mohit')"
   ]
  },
  {
   "cell_type": "code",
   "execution_count": 66,
   "id": "6bb9cdd0-acd1-4f51-8f47-e0d10f07018b",
   "metadata": {},
   "outputs": [
    {
     "data": {
      "text/plain": [
       "[False, 1, True, 1.3, 2, 4, 4, 4, 5, 6, 7, 8, 8, 9, 9.3]"
      ]
     },
     "execution_count": 66,
     "metadata": {},
     "output_type": "execute_result"
    }
   ],
   "source": [
    "my\n"
   ]
  },
  {
   "cell_type": "code",
   "execution_count": 68,
   "id": "f0ee5ee2-4d49-4d20-a1aa-c718d6bbab42",
   "metadata": {},
   "outputs": [],
   "source": [
    "my.remove(9.3)"
   ]
  },
  {
   "cell_type": "code",
   "execution_count": 70,
   "id": "a4ba721a-553b-49fe-8bb1-98fc12fe40dd",
   "metadata": {},
   "outputs": [
    {
     "data": {
      "text/plain": [
       "[False, 1, True, 1.3, 2, 4, 4, 4, 5, 6, 7, 8, 8, 9]"
      ]
     },
     "execution_count": 70,
     "metadata": {},
     "output_type": "execute_result"
    }
   ],
   "source": [
    "my"
   ]
  },
  {
   "cell_type": "code",
   "execution_count": 72,
   "id": "10cca916-942f-419c-b9d9-3dc42d268207",
   "metadata": {},
   "outputs": [],
   "source": [
    "my.remove(1.3)"
   ]
  },
  {
   "cell_type": "code",
   "execution_count": 74,
   "id": "a5093bc5-30fd-4c60-84a6-f6f764f1cfa6",
   "metadata": {},
   "outputs": [
    {
     "data": {
      "text/plain": [
       "[False, 1, True, 2, 4, 4, 4, 5, 6, 7, 8, 8, 9]"
      ]
     },
     "execution_count": 74,
     "metadata": {},
     "output_type": "execute_result"
    }
   ],
   "source": [
    "my"
   ]
  },
  {
   "cell_type": "code",
   "execution_count": 76,
   "id": "61b81089-1bbd-41e2-a630-f6739240e644",
   "metadata": {},
   "outputs": [
    {
     "data": {
      "text/plain": [
       "[False, 1, True, 2, 4, 4, 4, 5, 6, 7, 8, 8, 9]"
      ]
     },
     "execution_count": 76,
     "metadata": {},
     "output_type": "execute_result"
    }
   ],
   "source": [
    "my.sort()\n",
    "my"
   ]
  },
  {
   "cell_type": "code",
   "execution_count": 78,
   "id": "f571326d-8084-45c9-8189-8ec4d5e0d083",
   "metadata": {},
   "outputs": [
    {
     "data": {
      "text/plain": [
       "[9, 8, 8, 7, 6, 5, 4, 4, 4, 2, 1, True, False]"
      ]
     },
     "execution_count": 78,
     "metadata": {},
     "output_type": "execute_result"
    }
   ],
   "source": [
    "my.sort(reverse=True)\n",
    "my"
   ]
  },
  {
   "cell_type": "code",
   "execution_count": 80,
   "id": "57148814-524a-4dfc-b252-3b15f75335c1",
   "metadata": {},
   "outputs": [
    {
     "data": {
      "text/plain": [
       "[False, True, 1, 2, 4, 4, 4, 5, 6, 7, 8, 8, 9]"
      ]
     },
     "execution_count": 80,
     "metadata": {},
     "output_type": "execute_result"
    }
   ],
   "source": [
    "my.reverse()\n",
    "my"
   ]
  },
  {
   "cell_type": "code",
   "execution_count": 82,
   "id": "91fb3a2b-89fe-489a-a513-84241cf0c7c4",
   "metadata": {},
   "outputs": [
    {
     "data": {
      "text/plain": [
       "[False, True, 1, 2, 4, 4, 4, 5, 6, 7, 8, 8, 9]"
      ]
     },
     "execution_count": 82,
     "metadata": {},
     "output_type": "execute_result"
    }
   ],
   "source": [
    "li=my.copy()\n",
    "li"
   ]
  },
  {
   "cell_type": "code",
   "execution_count": 86,
   "id": "867c22a3-e370-4d67-b78e-837d8207778c",
   "metadata": {},
   "outputs": [
    {
     "data": {
      "text/plain": [
       "2"
      ]
     },
     "execution_count": 86,
     "metadata": {},
     "output_type": "execute_result"
    }
   ],
   "source": [
    "tu=(1,3,3,9,0,4,5,7,7)\n",
    "tu.count(3)\n"
   ]
  },
  {
   "cell_type": "code",
   "execution_count": 88,
   "id": "3528b9dd-73f2-4d2c-9f19-f6b0d7f032ab",
   "metadata": {},
   "outputs": [
    {
     "data": {
      "text/plain": [
       "4"
      ]
     },
     "execution_count": 88,
     "metadata": {},
     "output_type": "execute_result"
    }
   ],
   "source": [
    "tu.index(0)"
   ]
  },
  {
   "cell_type": "code",
   "execution_count": 90,
   "id": "f5ded28c-2051-47ea-84ba-5b801bef4f82",
   "metadata": {},
   "outputs": [
    {
     "data": {
      "text/plain": [
       "['dllllllll', 'jdjkc', 'bdd', 'afhek']"
      ]
     },
     "execution_count": 90,
     "metadata": {},
     "output_type": "execute_result"
    }
   ],
   "source": [
    "li=['afhek', 'bdd', 'jdjkc', 'dllllllll' ]\n",
    "li.reverse()\n",
    "li\n",
    "\n"
   ]
  },
  {
   "cell_type": "code",
   "execution_count": 92,
   "id": "19211cee-2e83-407a-9c41-e7b96dd1590c",
   "metadata": {},
   "outputs": [
    {
     "data": {
      "text/plain": [
       "['afhek', 'bdd', 'dllllllll', 'jdjkc']"
      ]
     },
     "execution_count": 92,
     "metadata": {},
     "output_type": "execute_result"
    }
   ],
   "source": [
    "li.sort()\n",
    "li"
   ]
  },
  {
   "cell_type": "code",
   "execution_count": 94,
   "id": "9eb9363d-f9c9-4c9e-8d25-451c408b3971",
   "metadata": {},
   "outputs": [],
   "source": [
    "lt=['apple', 'banana','dog', 'cherry','alex']\n",
    "lt.sort()"
   ]
  },
  {
   "cell_type": "code",
   "execution_count": 96,
   "id": "62973a63-b0f7-484e-949c-6b09cdc6013d",
   "metadata": {},
   "outputs": [
    {
     "data": {
      "text/plain": [
       "['alex', 'apple', 'banana', 'cherry', 'dog']"
      ]
     },
     "execution_count": 96,
     "metadata": {},
     "output_type": "execute_result"
    }
   ],
   "source": [
    "lt"
   ]
  },
  {
   "cell_type": "code",
   "execution_count": 98,
   "id": "f4b1ac66-8a13-4d52-8736-6250139aa2cc",
   "metadata": {},
   "outputs": [
    {
     "data": {
      "text/plain": [
       "['dog', 'cherry', 'banana', 'apple', 'alex']"
      ]
     },
     "execution_count": 98,
     "metadata": {},
     "output_type": "execute_result"
    }
   ],
   "source": [
    "lt.sort(reverse=True)\n",
    "lt"
   ]
  },
  {
   "cell_type": "code",
   "execution_count": 100,
   "id": "9d5664c2-6031-4c41-990a-1bd1d1e1adfe",
   "metadata": {},
   "outputs": [
    {
     "data": {
      "text/plain": [
       "['dog', 'alex', 'apple', 'cherry', 'banana']"
      ]
     },
     "execution_count": 100,
     "metadata": {},
     "output_type": "execute_result"
    }
   ],
   "source": [
    "lt.sort(key=len)\n",
    "lt"
   ]
  },
  {
   "cell_type": "code",
   "execution_count": 102,
   "id": "52144b63-205f-4a4d-8c65-1f61db76bf55",
   "metadata": {},
   "outputs": [
    {
     "data": {
      "text/plain": [
       "['cherry', 'banana', 'apple', 'alex', 'dog']"
      ]
     },
     "execution_count": 102,
     "metadata": {},
     "output_type": "execute_result"
    }
   ],
   "source": [
    "lt.sort(key=len,reverse=True)\n",
    "lt"
   ]
  },
  {
   "cell_type": "code",
   "execution_count": 106,
   "id": "43fcdf2f-c68e-454c-bdec-5ff8da0ee8ec",
   "metadata": {},
   "outputs": [
    {
     "data": {
      "text/plain": [
       "5"
      ]
     },
     "execution_count": 106,
     "metadata": {},
     "output_type": "execute_result"
    }
   ],
   "source": [
    "a=10\n",
    "b=a>> 1\n",
    "b\n"
   ]
  },
  {
   "cell_type": "code",
   "execution_count": 110,
   "id": "3077bca6-9765-4230-811a-1dbf2cb9c991",
   "metadata": {},
   "outputs": [
    {
     "data": {
      "text/plain": [
       "20"
      ]
     },
     "execution_count": 110,
     "metadata": {},
     "output_type": "execute_result"
    }
   ],
   "source": [
    "b =a<< 1\n",
    "b"
   ]
  },
  {
   "cell_type": "code",
   "execution_count": null,
   "id": "66d38003-cc17-4a80-82f3-32fd64d6a368",
   "metadata": {},
   "outputs": [],
   "source": [
    "#bitwise operator\n",
    "# and or Xor not leftwise rightwise\n",
    "    8  4  2  1\n",
    "10= 1  0  1  0\n",
    "12= 1  1  0  0\n",
    "\n",
    "and 1  0  0  0=====8\n",
    "\n",
    "or  1  1  1  0======14\n",
    "\n",
    "Xor 0  1  1  0=====6\n",
    "\n",
    "not(a)1  0  1  0\n",
    "     =0  1  0  1======5\n",
    "\n",
    "#leftwise     32  16  8  4  2  1\n",
    "   10 =      0   0   1  0  1  0\n",
    "             0   1   0  1  0  0\n",
    "           16+4=20\n",
    "\n",
    "#rightwisw    0   0   0  1  0  1\n",
    "             4+1=5\n",
    "\n"
   ]
  },
  {
   "cell_type": "code",
   "execution_count": null,
   "id": "eb5e02ce-dbc0-4627-a399-686bc6351bf9",
   "metadata": {},
   "outputs": [],
   "source": []
  }
 ],
 "metadata": {
  "kernelspec": {
   "display_name": "Python 3 (ipykernel)",
   "language": "python",
   "name": "python3"
  },
  "language_info": {
   "codemirror_mode": {
    "name": "ipython",
    "version": 3
   },
   "file_extension": ".py",
   "mimetype": "text/x-python",
   "name": "python",
   "nbconvert_exporter": "python",
   "pygments_lexer": "ipython3",
   "version": "3.12.4"
  }
 },
 "nbformat": 4,
 "nbformat_minor": 5
}
