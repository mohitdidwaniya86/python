{
 "cells": [
  {
   "cell_type": "code",
   "execution_count": 1,
   "id": "ff7cd050-d5b2-4274-addb-26225561ac98",
   "metadata": {},
   "outputs": [
    {
     "name": "stdout",
     "output_type": "stream",
     "text": [
      "[1, 2, 3, 4, 5, 6]\n"
     ]
    }
   ],
   "source": [
    "#1 What does the + operator do when used with two lists?\n",
    "l1=[1,2,3]\n",
    "l2=[4,5,6]\n",
    "print(l1+l2)"
   ]
  },
  {
   "cell_type": "code",
   "execution_count": 23,
   "id": "f31f17db-8e39-40cb-a655-67460f81ec68",
   "metadata": {},
   "outputs": [
    {
     "data": {
      "text/plain": [
       "3"
      ]
     },
     "execution_count": 23,
     "metadata": {},
     "output_type": "execute_result"
    }
   ],
   "source": [
    "#2 How can you find the length of a tuple?\n",
    "tuple=(1,5,2)\n",
    "len(tuple)\n",
    "\n",
    "\n"
   ]
  },
  {
   "cell_type": "code",
   "execution_count": 31,
   "id": "2c476314-fb20-44bc-81f9-f77056b0f932",
   "metadata": {},
   "outputs": [
    {
     "name": "stdout",
     "output_type": "stream",
     "text": [
      "[1, 2, 3, 1, 2, 3, 1, 2, 3, 1, 2, 3]\n"
     ]
    }
   ],
   "source": [
    "#3 What does the * operator do when used with a list?\n",
    "l1=[1,2,3]*4\n",
    "\n",
    "print(l1)"
   ]
  },
  {
   "cell_type": "code",
   "execution_count": 33,
   "id": "c3f42dd6-27c2-4f2e-a4ce-6374847eabae",
   "metadata": {},
   "outputs": [
    {
     "data": {
      "text/plain": [
       "[1, 4, 4, 199]"
      ]
     },
     "execution_count": 33,
     "metadata": {},
     "output_type": "execute_result"
    }
   ],
   "source": [
    "#4 How do you add an element to the end of a list?\n",
    "my=[1,4,4]\n",
    "my.append(199)\n",
    "my"
   ]
  },
  {
   "cell_type": "code",
   "execution_count": 35,
   "id": "83f20a96-bd4b-4109-9e4a-7ba2506d55b1",
   "metadata": {},
   "outputs": [
    {
     "data": {
      "text/plain": [
       "[1, 4, 199]"
      ]
     },
     "execution_count": 35,
     "metadata": {},
     "output_type": "execute_result"
    }
   ],
   "source": [
    "#5  What method can you use to remove an element from a list by its value?\n",
    "my.remove(4)\n",
    "my"
   ]
  },
  {
   "cell_type": "code",
   "execution_count": 51,
   "id": "9295f33d-72bb-4f4d-b01a-f89a4f2a1c07",
   "metadata": {},
   "outputs": [
    {
     "name": "stdout",
     "output_type": "stream",
     "text": [
      "3\n"
     ]
    }
   ],
   "source": [
    "#6  How do you access the third element of a tuple?\n",
    "maa=(1,2,3,5,8,9,8,77,99,33,66)\n",
    "print(maa[2])\n"
   ]
  },
  {
   "cell_type": "code",
   "execution_count": 53,
   "id": "9eb4b82d-9a68-4d09-88e0-005d98107d87",
   "metadata": {},
   "outputs": [
    {
     "data": {
      "text/plain": [
       "[1, 2, 5, 8, 8, 33, 66, 77, 99, 119, 399]"
      ]
     },
     "execution_count": 53,
     "metadata": {},
     "output_type": "execute_result"
    }
   ],
   "source": [
    "#7  What method can you use to sort a list in ascending order?\n",
    "aa=[1,2,399,5,8,119,8,77,99,33,66]\n",
    "aa.sort()\n",
    "aa"
   ]
  },
  {
   "cell_type": "code",
   "execution_count": 55,
   "id": "b1676cdd-01f4-4f2e-aa23-eaefd984aaf5",
   "metadata": {},
   "outputs": [
    {
     "data": {
      "text/plain": [
       "True"
      ]
     },
     "execution_count": 55,
     "metadata": {},
     "output_type": "execute_result"
    }
   ],
   "source": [
    "#8 How can you check if a specific item exists in a tuple?\n",
    "tu=(4,5,6,8,3)\n",
    "5 in tu"
   ]
  },
  {
   "cell_type": "code",
   "execution_count": 57,
   "id": "b161815d-e8d5-4e00-9590-3d4c8da8ef67",
   "metadata": {},
   "outputs": [
    {
     "data": {
      "text/plain": [
       "False"
      ]
     },
     "execution_count": 57,
     "metadata": {},
     "output_type": "execute_result"
    }
   ],
   "source": [
    "99 in tu"
   ]
  },
  {
   "cell_type": "code",
   "execution_count": 59,
   "id": "e068b3c6-fa12-416d-a30e-7d83f507dfc4",
   "metadata": {},
   "outputs": [],
   "source": [
    "#9 What method would you use to remove all occurrences of a specific item from a list?\n",
    "aa.clear()"
   ]
  },
  {
   "cell_type": "code",
   "execution_count": 61,
   "id": "11f5fe03-899e-491e-8f11-edb0b8fd20eb",
   "metadata": {},
   "outputs": [
    {
     "data": {
      "text/plain": [
       "[]"
      ]
     },
     "execution_count": 61,
     "metadata": {},
     "output_type": "execute_result"
    }
   ],
   "source": [
    "aa"
   ]
  },
  {
   "cell_type": "code",
   "execution_count": 63,
   "id": "c49c94e4-2f1b-4ff3-b4c4-81601f37a6b2",
   "metadata": {},
   "outputs": [
    {
     "name": "stdout",
     "output_type": "stream",
     "text": [
      "(1, 5, 6, 4, 99, 33)\n"
     ]
    }
   ],
   "source": [
    "#10 How can you concatenate two tuples?\n",
    "tu1=(1,5,6)\n",
    "tu2=(4,99,33)\n",
    "tu3 =tu1 + tu2\n",
    "print(tu3)\n",
    "     "
   ]
  },
  {
   "cell_type": "code",
   "execution_count": 67,
   "id": "29f7515e-9596-4e40-8317-6e03e50d12b6",
   "metadata": {},
   "outputs": [
    {
     "data": {
      "text/plain": [
       "3"
      ]
     },
     "execution_count": 67,
     "metadata": {},
     "output_type": "execute_result"
    }
   ],
   "source": [
    "#11 What method can you use to get the index of a specific item in a list?\n",
    "li=[4,5,8,6,9,6,55,77]\n",
    "li.index(6)\n"
   ]
  },
  {
   "cell_type": "code",
   "execution_count": 75,
   "id": "cc97d357-ff34-4dc4-847c-d708e166679c",
   "metadata": {},
   "outputs": [
    {
     "name": "stdout",
     "output_type": "stream",
     "text": [
      "(1,)\n"
     ]
    }
   ],
   "source": [
    "#12 How do you create a tuple with a single element?\n",
    "tuple=(1,)\n",
    "print(tuple)"
   ]
  },
  {
   "cell_type": "code",
   "execution_count": 73,
   "id": "545e2166-bc0b-4a51-9609-1e8f0f8bd781",
   "metadata": {},
   "outputs": [
    {
     "data": {
      "text/plain": [
       "[77, 55, 6, 9, 6, 8, 5, 4]"
      ]
     },
     "execution_count": 73,
     "metadata": {},
     "output_type": "execute_result"
    }
   ],
   "source": [
    "#13 How can you reverse the elements of a list?\n",
    "li.reverse()\n",
    "li"
   ]
  },
  {
   "cell_type": "code",
   "execution_count": 83,
   "id": "814b808c-a04d-498f-bbf6-d72efa417611",
   "metadata": {},
   "outputs": [
    {
     "data": {
      "text/plain": [
       "False"
      ]
     },
     "execution_count": 83,
     "metadata": {},
     "output_type": "execute_result"
    }
   ],
   "source": [
    "#14 What does the in operator do when used with a list or tuple?\n",
    "lit=[4,5,6,9]\n",
    "4 in lit\n",
    "\n",
    "tup=(4,6,9,3)\n",
    "6 in tup\n",
    "0 in tup"
   ]
  },
  {
   "cell_type": "code",
   "execution_count": 87,
   "id": "802ce23e-ebea-45e6-a1f3-5e7321b4084a",
   "metadata": {},
   "outputs": [
    {
     "data": {
      "text/plain": [
       "2"
      ]
     },
     "execution_count": 87,
     "metadata": {},
     "output_type": "execute_result"
    }
   ],
   "source": [
    "#15 How do you find the number of occurrences of a specific element in a list?\n",
    "\n",
    "list=[4,5,6,66,6,6,2,2]\n",
    "list.count(4)\n",
    "list.count(2)"
   ]
  },
  {
   "cell_type": "code",
   "execution_count": 101,
   "id": "ffc3267b-2d22-48aa-824b-675d98602339",
   "metadata": {},
   "outputs": [
    {
     "data": {
      "text/plain": [
       "[1, 2, 8]"
      ]
     },
     "execution_count": 101,
     "metadata": {},
     "output_type": "execute_result"
    }
   ],
   "source": [
    "#16 How can you slice a list to get the first three elements?\n",
    "list1=[1,2,8,2,3,4,5]\n",
    "list1[0:3:1]\n"
   ]
  },
  {
   "cell_type": "code",
   "execution_count": 103,
   "id": "bb141e07-f891-42cc-8a32-539c458219d4",
   "metadata": {},
   "outputs": [],
   "source": [
    "#17 What is the difference between the append and extend methods for a list?\n",
    "#ans=append is used to add a single element at the end of the list\n",
    "#extend is used to add multiple items or a new list to the existing list."
   ]
  },
  {
   "cell_type": "code",
   "execution_count": 105,
   "id": "d5161fa6-c78d-47d7-97df-aaacd43263b3",
   "metadata": {},
   "outputs": [
    {
     "data": {
      "text/plain": [
       "[(1, 7), (6, 0), (8, 9)]"
      ]
     },
     "execution_count": 105,
     "metadata": {},
     "output_type": "execute_result"
    }
   ],
   "source": [
    "#18 How can you create a list of tuples where each tuple contains two elements?\n",
    "list2=[(1,7),(6,0),(8,9)]\n",
    "list2"
   ]
  },
  {
   "cell_type": "code",
   "execution_count": 107,
   "id": "29c0c2f5-8b1d-4956-932c-55cc635f32f6",
   "metadata": {},
   "outputs": [],
   "source": [
    "#19 What method can you use to remove an element from a tuple (since tuples are immutable)?\n",
    "#ans = You cannot change, add, or remove elements in a tuple, but you can perform other operations that do not modify the original tuple\n",
    "\n"
   ]
  },
  {
   "cell_type": "code",
   "execution_count": 111,
   "id": "40e65662-2f0c-4c6c-bf89-3c4fda649481",
   "metadata": {},
   "outputs": [
    {
     "name": "stdout",
     "output_type": "stream",
     "text": [
      "['king', 'raja', 'pgl', 'sherya']\n"
     ]
    }
   ],
   "source": [
    "#20 How do you join a list of strings into a single string with spaces in between?\n",
    "list3=['king','raja']\n",
    "list4=['pgl','sherya']\n",
    "list=list3 + list4\n",
    "print(list)"
   ]
  },
  {
   "cell_type": "code",
   "execution_count": null,
   "id": "1f16e3d4-54ab-43db-a1b5-91a1dbdffc10",
   "metadata": {},
   "outputs": [],
   "source": []
  }
 ],
 "metadata": {
  "kernelspec": {
   "display_name": "Python 3 (ipykernel)",
   "language": "python",
   "name": "python3"
  },
  "language_info": {
   "codemirror_mode": {
    "name": "ipython",
    "version": 3
   },
   "file_extension": ".py",
   "mimetype": "text/x-python",
   "name": "python",
   "nbconvert_exporter": "python",
   "pygments_lexer": "ipython3",
   "version": "3.12.4"
  }
 },
 "nbformat": 4,
 "nbformat_minor": 5
}
