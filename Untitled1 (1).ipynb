{
 "cells": [
  {
   "cell_type": "code",
   "execution_count": 7,
   "id": "ed916b29-8abb-4cb4-91b7-2badfaccb627",
   "metadata": {},
   "outputs": [
    {
     "name": "stdout",
     "output_type": "stream",
     "text": [
      "['apple', 'banana', 'cherry', 'kiwi']\n",
      "['apple', 'banana', 'cherry', 'kiwi']\n",
      "['apple', 'banana', 'cherry', 'kiwi']\n",
      "['apple', 'banana', 'cherry', 'kiwi']\n"
     ]
    }
   ],
   "source": [
    "fruits = [\"apple\",\"banana\",\"cherry\",\"kiwi\"]\n",
    "for fruit in  fruits:\n",
    "    print(fruits)"
   ]
  },
  {
   "cell_type": "code",
   "execution_count": 8,
   "id": "6394e585-95f5-4e4c-a671-1323b8e0a146",
   "metadata": {},
   "outputs": [
    {
     "name": "stdout",
     "output_type": "stream",
     "text": [
      "0\n",
      "1\n",
      "2\n",
      "3\n",
      "4\n",
      "5\n"
     ]
    }
   ],
   "source": [
    "counter=0\n",
    "while counter<=5:\n",
    "    print(counter)\n",
    "    counter= counter+1"
   ]
  },
  {
   "cell_type": "raw",
   "id": "7574da63-97c1-45ff-a544-a07c7a698814",
   "metadata": {},
   "source": [
    "\n",
    "\\"
   ]
  },
  {
   "cell_type": "code",
   "execution_count": 12,
   "id": "614dcef9-da63-4455-90d6-e409f8d03521",
   "metadata": {},
   "outputs": [
    {
     "name": "stdout",
     "output_type": "stream",
     "text": [
      "0\n",
      "1\n",
      "2\n"
     ]
    }
   ],
   "source": [
    "for i in range(10):\n",
    "    if i==3:\n",
    "        break\n",
    "        if i==1:\n",
    "            continue\n",
    "    print(i)"
   ]
  },
  {
   "cell_type": "markdown",
   "id": "41978179-0cee-43f9-af61-c1be1a01c52f",
   "metadata": {},
   "source": []
  },
  {
   "cell_type": "code",
   "execution_count": 15,
   "id": "7c4bfd67-fc79-4a0f-b158-3cba9fc68b39",
   "metadata": {},
   "outputs": [
    {
     "name": "stdin",
     "output_type": "stream",
     "text": [
      "Enter an integer: 12\n"
     ]
    },
    {
     "name": "stdout",
     "output_type": "stream",
     "text": [
      "output: [12]\n"
     ]
    },
    {
     "name": "stdin",
     "output_type": "stream",
     "text": [
      "Enter an integer: 77\n"
     ]
    },
    {
     "name": "stdout",
     "output_type": "stream",
     "text": [
      "output: [12, 77]\n"
     ]
    },
    {
     "name": "stdin",
     "output_type": "stream",
     "text": [
      "Enter an integer: 99\n"
     ]
    },
    {
     "name": "stdout",
     "output_type": "stream",
     "text": [
      "output: [12, 77, 99]\n"
     ]
    },
    {
     "name": "stdin",
     "output_type": "stream",
     "text": [
      "Enter an integer: 54\n"
     ]
    },
    {
     "name": "stdout",
     "output_type": "stream",
     "text": [
      "output: [12, 77, 99, 54]\n"
     ]
    },
    {
     "name": "stdin",
     "output_type": "stream",
     "text": [
      "Enter an integer: 34\n"
     ]
    },
    {
     "name": "stdout",
     "output_type": "stream",
     "text": [
      "output: [12, 77, 99, 54, 34]\n"
     ]
    }
   ],
   "source": [
    "num_list=[]\n",
    "n=5\n",
    "for i in range(n):\n",
    "    num = int(input('Enter an integer:'))\n",
    "    num_list.append(num)\n",
    "    print('output:',num_list)"
   ]
  },
  {
   "cell_type": "code",
   "execution_count": 17,
   "id": "b6bc2ba9-d080-4f80-8127-c6f799d6d15c",
   "metadata": {},
   "outputs": [
    {
     "name": "stdin",
     "output_type": "stream",
     "text": [
      "Enter an integer: 12\n",
      "Enter an integer: 56\n",
      "Enter an integer: 09\n",
      "Enter an integer: 45\n",
      "Enter an integer: 76\n"
     ]
    },
    {
     "name": "stdout",
     "output_type": "stream",
     "text": [
      "[12, 56, 9, 45, 76]\n"
     ]
    }
   ],
   "source": [
    "num_list=[int(input('Enter an integer:'))for _ in range(5)]\n",
    "print(num_list)"
   ]
  },
  {
   "cell_type": "code",
   "execution_count": 18,
   "id": "7539fad8-cba6-49b0-8c7b-b44e265c38ce",
   "metadata": {},
   "outputs": [
    {
     "name": "stdin",
     "output_type": "stream",
     "text": [
      "Enter multiple inputs with spaces 22 65 78\n"
     ]
    },
    {
     "data": {
      "text/plain": [
       "[22, 65, 78]"
      ]
     },
     "execution_count": 18,
     "metadata": {},
     "output_type": "execute_result"
    }
   ],
   "source": [
    "input_string = input(\"Enter multiple inputs with spaces\")\n",
    "input_list = input_string.split()\n",
    "numbers = list(map(int,input_list))\n",
    "numbers"
   ]
  },
  {
   "cell_type": "code",
   "execution_count": 32,
   "id": "0161f9a6-e6f0-47c2-8bd3-c31d6d86486f",
   "metadata": {},
   "outputs": [
    {
     "data": {
      "text/plain": [
       "[2, 3, 5, 7, 11]"
      ]
     },
     "execution_count": 32,
     "metadata": {},
     "output_type": "execute_result"
    }
   ],
   "source": [
    "numbers=[2,3,4,5,6,7,8,9,10,11,12]\n",
    "prime_numbers=[num for num in numbers if num>1 and all(num%i !=0 for i in range(2,num))]\n",
    "prime_numbers\n",
    "\n"
   ]
  },
  {
   "cell_type": "code",
   "execution_count": null,
   "id": "7cb41426-c8aa-44eb-9a40-70c5cbe6eeb2",
   "metadata": {},
   "outputs": [],
   "source": [
    "\n",
    "\n"
   ]
  },
  {
   "cell_type": "code",
   "execution_count": 33,
   "id": "83e54dcd-544f-4932-9435-60796a0aea5a",
   "metadata": {},
   "outputs": [
    {
     "name": "stdin",
     "output_type": "stream",
     "text": [
      "Enter your string hell words pop maa lit jihh\n"
     ]
    },
    {
     "data": {
      "text/plain": [
       "['hell', 'words', 'pop', 'maa', 'lit', 'jihh']"
      ]
     },
     "execution_count": 33,
     "metadata": {},
     "output_type": "execute_result"
    }
   ],
   "source": [
    "input_list=input('Enter your string')\n",
    "words_list=input_list.split()\n",
    "words_list"
   ]
  },
  {
   "cell_type": "code",
   "execution_count": 35,
   "id": "c0a2928d-6f87-4605-b8d2-789eeb62abb2",
   "metadata": {},
   "outputs": [
    {
     "data": {
      "text/plain": [
       "['pop']"
      ]
     },
     "execution_count": 35,
     "metadata": {},
     "output_type": "execute_result"
    }
   ],
   "source": [
    "result = [word for word in words_list if len(word)>=2 and word[0] == word[-1]]\n",
    "result\n"
   ]
  },
  {
   "cell_type": "code",
   "execution_count": 36,
   "id": "b2bdc10d-0020-4c37-8705-b44b55c0ba6e",
   "metadata": {},
   "outputs": [
    {
     "name": "stdin",
     "output_type": "stream",
     "text": [
      "enter the number : 3\n"
     ]
    },
    {
     "name": "stdout",
     "output_type": "stream",
     "text": [
      "9\n"
     ]
    }
   ],
   "source": [
    "n=list (map(int,input(\"enter the number :\")))\n",
    "for i in n:\n",
    "    print(i*i)"
   ]
  },
  {
   "cell_type": "code",
   "execution_count": 41,
   "id": "1d8c4255-c070-432c-9f22-6cf8272164b5",
   "metadata": {},
   "outputs": [
    {
     "name": "stdin",
     "output_type": "stream",
     "text": [
      "Enter the numbers 3 6 7\n"
     ]
    },
    {
     "data": {
      "text/plain": [
       "[3, 6, 7]"
      ]
     },
     "execution_count": 41,
     "metadata": {},
     "output_type": "execute_result"
    }
   ],
   "source": [
    "numbers=list(map(int,input('Enter the numbers').split()))\n",
    "numbers                 "
   ]
  },
  {
   "cell_type": "code",
   "execution_count": null,
   "id": "272fd4b1-59d1-45da-a2d5-a695eb5eb216",
   "metadata": {},
   "outputs": [],
   "source": []
  },
  {
   "cell_type": "code",
   "execution_count": null,
   "id": "43c03124-bb0d-4f0b-93cc-4260dbcf97dd",
   "metadata": {},
   "outputs": [],
   "source": []
  },
  {
   "cell_type": "code",
   "execution_count": null,
   "id": "ce808c88-49d7-4e3d-b93a-1401c136a107",
   "metadata": {},
   "outputs": [],
   "source": []
  },
  {
   "cell_type": "code",
   "execution_count": null,
   "id": "139ac906-73f4-4775-81a2-753cdfa23441",
   "metadata": {},
   "outputs": [],
   "source": []
  }
 ],
 "metadata": {
  "kernelspec": {
   "display_name": "Python 3 (ipykernel)",
   "language": "python",
   "name": "python3"
  },
  "language_info": {
   "codemirror_mode": {
    "name": "ipython",
    "version": 3
   },
   "file_extension": ".py",
   "mimetype": "text/x-python",
   "name": "python",
   "nbconvert_exporter": "python",
   "pygments_lexer": "ipython3",
   "version": "3.10.11"
  }
 },
 "nbformat": 4,
 "nbformat_minor": 5
}
