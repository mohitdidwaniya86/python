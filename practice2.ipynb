{
 "cells": [
  {
   "cell_type": "code",
   "execution_count": 3,
   "id": "76257ba6-4be7-4fac-bf68-7d43531f9748",
   "metadata": {},
   "outputs": [
    {
     "name": "stdout",
     "output_type": "stream",
     "text": [
      "140719203041432\n"
     ]
    }
   ],
   "source": [
    "a=56\n",
    "print(id(a))"
   ]
  },
  {
   "cell_type": "code",
   "execution_count": 5,
   "id": "4c27206c-ea03-46fc-b398-13eb9dfab3d2",
   "metadata": {},
   "outputs": [
    {
     "name": "stdout",
     "output_type": "stream",
     "text": [
      "140719203041432\n"
     ]
    }
   ],
   "source": [
    "b=56\n",
    "print(id(b))"
   ]
  },
  {
   "cell_type": "code",
   "execution_count": 7,
   "id": "3749abdd-7d84-4d15-b2f4-528799277007",
   "metadata": {},
   "outputs": [
    {
     "name": "stdout",
     "output_type": "stream",
     "text": [
      "1848599352832\n",
      "1848599347584\n"
     ]
    }
   ],
   "source": [
    "a=[1,2,3]\n",
    "b=[1,2,3]\n",
    "print(id(a))\n",
    "print(id(b))"
   ]
  },
  {
   "cell_type": "code",
   "execution_count": 9,
   "id": "0a7d55d2-4e95-40f7-9588-95671afc8f48",
   "metadata": {},
   "outputs": [
    {
     "data": {
      "text/plain": [
       "True"
      ]
     },
     "execution_count": 9,
     "metadata": {},
     "output_type": "execute_result"
    }
   ],
   "source": [
    "a=[1,2,4,5,6]\n",
    "1 in a"
   ]
  },
  {
   "cell_type": "code",
   "execution_count": 11,
   "id": "a79559bd-648e-4482-95d2-44a4bc401b8f",
   "metadata": {},
   "outputs": [
    {
     "data": {
      "text/plain": [
       "False"
      ]
     },
     "execution_count": 11,
     "metadata": {},
     "output_type": "execute_result"
    }
   ],
   "source": [
    "89 in a"
   ]
  },
  {
   "cell_type": "code",
   "execution_count": 29,
   "id": "d331bcf0-13c4-4ad9-a092-778d902b77f4",
   "metadata": {},
   "outputs": [
    {
     "name": "stdout",
     "output_type": "stream",
     "text": [
      "False\n",
      "True\n",
      "True\n",
      "True\n",
      "False\n"
     ]
    }
   ],
   "source": [
    "#logical operators\n",
    "a=56\n",
    "b=78\n",
    "c=99\n",
    "print(a>b and c<b)\n",
    "print(a<b and c>b)\n",
    "print(a>b or b<c)\n",
    "print(not a>b)\n",
    "print(not a)"
   ]
  },
  {
   "cell_type": "code",
   "execution_count": 31,
   "id": "25ada18f-5822-4f6b-ac23-709ec9da9178",
   "metadata": {},
   "outputs": [
    {
     "data": {
      "text/plain": [
       "False"
      ]
     },
     "execution_count": 31,
     "metadata": {},
     "output_type": "execute_result"
    }
   ],
   "source": [
    "a is b"
   ]
  },
  {
   "cell_type": "code",
   "execution_count": 33,
   "id": "7f02f2c3-5d23-4339-bc6e-46eea216b896",
   "metadata": {},
   "outputs": [
    {
     "data": {
      "text/plain": [
       "False"
      ]
     },
     "execution_count": 33,
     "metadata": {},
     "output_type": "execute_result"
    }
   ],
   "source": [
    "b is c"
   ]
  },
  {
   "cell_type": "code",
   "execution_count": 35,
   "id": "0106c879-5a2a-47dc-bb95-6cf8cace3b71",
   "metadata": {},
   "outputs": [
    {
     "data": {
      "text/plain": [
       "True"
      ]
     },
     "execution_count": 35,
     "metadata": {},
     "output_type": "execute_result"
    }
   ],
   "source": [
    "x=4\n",
    "y=4\n",
    "x is y"
   ]
  },
  {
   "cell_type": "code",
   "execution_count": 37,
   "id": "2620ac03-bf74-4c6b-8e05-a8fed37a41d6",
   "metadata": {},
   "outputs": [
    {
     "name": "stdout",
     "output_type": "stream",
     "text": [
      "1\n"
     ]
    }
   ],
   "source": [
    "#bitwise operators\n",
    "a=7\n",
    "b=9\n",
    "print(a & b) #And "
   ]
  },
  {
   "cell_type": "code",
   "execution_count": 41,
   "id": "8197a642-1419-4ce0-bff1-070108e0952e",
   "metadata": {},
   "outputs": [
    {
     "name": "stdout",
     "output_type": "stream",
     "text": [
      "15\n"
     ]
    }
   ],
   "source": [
    "print( a | b) # or"
   ]
  },
  {
   "cell_type": "code",
   "execution_count": 48,
   "id": "228fd30a-9af7-42ad-a74c-51beb9ba4d5a",
   "metadata": {},
   "outputs": [
    {
     "name": "stdout",
     "output_type": "stream",
     "text": [
      "14\n"
     ]
    }
   ],
   "source": [
    "print(a ^ b) #Xor"
   ]
  },
  {
   "cell_type": "code",
   "execution_count": 50,
   "id": "9598ebf3-2534-43d8-a803-4c3773540d63",
   "metadata": {},
   "outputs": [
    {
     "name": "stdout",
     "output_type": "stream",
     "text": [
      "3584\n"
     ]
    }
   ],
   "source": [
    "#leftwise\n",
    "print(a << b)"
   ]
  },
  {
   "cell_type": "code",
   "execution_count": 52,
   "id": "0678e59e-deda-4009-9e48-91a6a99a9813",
   "metadata": {},
   "outputs": [
    {
     "name": "stdout",
     "output_type": "stream",
     "text": [
      "0\n"
     ]
    }
   ],
   "source": [
    "#rightwise\n",
    "print(a >> b)"
   ]
  },
  {
   "cell_type": "code",
   "execution_count": 54,
   "id": "45d04351-b298-4a7b-b67c-f9347d4bc4b1",
   "metadata": {},
   "outputs": [
    {
     "name": "stdout",
     "output_type": "stream",
     "text": [
      "-2\n"
     ]
    }
   ],
   "source": [
    "#not\n",
    "print(~(a & b))"
   ]
  },
  {
   "cell_type": "code",
   "execution_count": 71,
   "id": "dda9fda6-995e-4ac3-8929-1458b5aec4fe",
   "metadata": {},
   "outputs": [
    {
     "name": "stdin",
     "output_type": "stream",
     "text": [
      "enter your age 18\n"
     ]
    },
    {
     "name": "stdout",
     "output_type": "stream",
     "text": [
      "less than 19\n"
     ]
    }
   ],
   "source": [
    "#conditional statements\n",
    "#used to run code based on some conditions\n",
    "\n",
    "#if (condition):\n",
    "  #code_to_execute\n",
    "#elif (condition):\n",
    "   #code_to_run\n",
    "#else:\n",
    " #code_to_run\n",
    "\n",
    "\n",
    "#input function\n",
    "# it is used to take user input\n",
    "#gives a string output as default\n",
    "# we use int function outside the input function to convert the string output to integer\n",
    "\n",
    "age =int(input('enter your age'))\n",
    "if(age>19):\n",
    "    print('greater than 19')\n",
    "elif(age<19):\n",
    "    print('less than 19')\n",
    "else:\n",
    "    print('equal to 19')\n",
    "\n",
    "\n",
    "\n",
    "\n",
    " "
   ]
  },
  {
   "cell_type": "code",
   "execution_count": null,
   "id": "f7525799-7a4f-4fc9-9d61-037d6d6aafc9",
   "metadata": {},
   "outputs": [],
   "source": []
  },
  {
   "cell_type": "code",
   "execution_count": null,
   "id": "ec4d95f4-7757-4a7c-9faf-700e0e644217",
   "metadata": {},
   "outputs": [],
   "source": []
  }
 ],
 "metadata": {
  "kernelspec": {
   "display_name": "Python 3 (ipykernel)",
   "language": "python",
   "name": "python3"
  },
  "language_info": {
   "codemirror_mode": {
    "name": "ipython",
    "version": 3
   },
   "file_extension": ".py",
   "mimetype": "text/x-python",
   "name": "python",
   "nbconvert_exporter": "python",
   "pygments_lexer": "ipython3",
   "version": "3.12.4"
  }
 },
 "nbformat": 4,
 "nbformat_minor": 5
}
