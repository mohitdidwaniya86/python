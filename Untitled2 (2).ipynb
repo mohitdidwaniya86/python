{
 "cells": [
  {
   "cell_type": "code",
   "execution_count": 1,
   "id": "8b000284-e2b6-4bc2-a90f-c6a4ba68bffa",
   "metadata": {},
   "outputs": [
    {
     "name": "stdout",
     "output_type": "stream",
     "text": [
      "[12, 5.3, 'raja', True]\n"
     ]
    }
   ],
   "source": [
    "li=[12,5.3,'raja',True]\n",
    "print(li)"
   ]
  },
  {
   "cell_type": "code",
   "execution_count": 3,
   "id": "044b0e4f-1a8d-4b4b-8974-ed6f3084baac",
   "metadata": {},
   "outputs": [
    {
     "name": "stdout",
     "output_type": "stream",
     "text": [
      "(12, 5.3, 'raja', True)\n"
     ]
    }
   ],
   "source": [
    "tu=(12,5.3,'raja',True)\n",
    "print(tu)"
   ]
  },
  {
   "cell_type": "code",
   "execution_count": 5,
   "id": "351a0e16-7abe-4232-adc8-d4dc5f57031d",
   "metadata": {},
   "outputs": [
    {
     "name": "stdout",
     "output_type": "stream",
     "text": [
      "<class 'list'>\n"
     ]
    }
   ],
   "source": [
    "print(type(li))"
   ]
  },
  {
   "cell_type": "code",
   "execution_count": 7,
   "id": "04afd0d7-3930-46ac-a5ac-85fce2affe69",
   "metadata": {},
   "outputs": [
    {
     "data": {
      "text/plain": [
       "tuple"
      ]
     },
     "execution_count": 7,
     "metadata": {},
     "output_type": "execute_result"
    }
   ],
   "source": [
    "type(tu)"
   ]
  },
  {
   "cell_type": "code",
   "execution_count": 15,
   "id": "3fcb858c-9588-4dd2-a06e-c61ef004a629",
   "metadata": {},
   "outputs": [
    {
     "name": "stdout",
     "output_type": "stream",
     "text": [
      "[12, 5.3, 'raja', True, 55]\n"
     ]
    }
   ],
   "source": [
    "li=[12,5.3,'raja',True]\n",
    "li.append(55) # only one element add at a time\n",
    "print(li)"
   ]
  },
  {
   "cell_type": "code",
   "execution_count": 21,
   "id": "5a25ab44-68b4-45a1-8d00-4b8ef5a585e5",
   "metadata": {},
   "outputs": [
    {
     "name": "stdout",
     "output_type": "stream",
     "text": [
      "[12, 5.3, 'raja', True, 55, 77, 55, 66, 77, 'ram', True]\n"
     ]
    }
   ],
   "source": [
    "li.extend([77,'ram',True])\n",
    "print(li)"
   ]
  },
  {
   "cell_type": "code",
   "execution_count": 37,
   "id": "398fcab2-7720-4437-a3f8-a30a9f87ef5d",
   "metadata": {},
   "outputs": [
    {
     "name": "stdout",
     "output_type": "stream",
     "text": [
      "[666, 4555, 4555, 'kinggg', 666, 100, 100, 12, 5.3, 'raja', True, 55, 77, 55, 66, 77, 'ram', True]\n"
     ]
    }
   ],
   "source": [
    "li.insert(1,4555)\n",
    "print(li)"
   ]
  },
  {
   "cell_type": "code",
   "execution_count": 41,
   "id": "164f919c-3b96-4a37-9dd5-5b33be411e88",
   "metadata": {},
   "outputs": [
    {
     "name": "stdout",
     "output_type": "stream",
     "text": [
      "[0, 2, 2, 100, 5, 6, 7, 8, 8, 9]\n"
     ]
    }
   ],
   "source": [
    "lt=[2,2,5,6,7,8,8,9]\n",
    "lt.insert(2,100)\n",
    "lt.insert(0,0)\n",
    "print(lt)"
   ]
  },
  {
   "cell_type": "code",
   "execution_count": 43,
   "id": "0f0809ce-c882-46ee-9f14-f8f0f1b7d1da",
   "metadata": {},
   "outputs": [
    {
     "name": "stdout",
     "output_type": "stream",
     "text": [
      "[2, 2, 100, 5, 6, 7, 8, 8, 9]\n"
     ]
    }
   ],
   "source": [
    "lt.remove(0)\n",
    "print(lt)"
   ]
  },
  {
   "cell_type": "code",
   "execution_count": 47,
   "id": "69e50e2e-a898-476b-bd8f-62c9797733d4",
   "metadata": {},
   "outputs": [],
   "source": [
    "# lt.remove(88)\n",
    "# print(lt)  show erroe bcoz element not present in the list"
   ]
  },
  {
   "cell_type": "code",
   "execution_count": 49,
   "id": "649da0c8-2f59-4d38-bc4d-042c2868d581",
   "metadata": {},
   "outputs": [
    {
     "name": "stdout",
     "output_type": "stream",
     "text": [
      "[2, 100, 5, 6, 7, 8, 8, 9]\n"
     ]
    }
   ],
   "source": [
    "lt.remove(2)\n",
    "print(lt)"
   ]
  },
  {
   "cell_type": "code",
   "execution_count": 51,
   "id": "bdb528e6-b703-47ee-b5a8-8890e1e7f534",
   "metadata": {},
   "outputs": [
    {
     "name": "stdout",
     "output_type": "stream",
     "text": [
      "[2, 100, 5, 6, 7, 8, 9]\n"
     ]
    }
   ],
   "source": [
    "lt.remove(8)\n",
    "print(lt)"
   ]
  },
  {
   "cell_type": "code",
   "execution_count": 55,
   "id": "e8017d32-3616-4ab3-b7c9-21de3eebe03b",
   "metadata": {},
   "outputs": [],
   "source": [
    "# lt.remove(100,9)\n",
    "# print(lt)\n",
    "# only one argument remove at a time  not multiple"
   ]
  },
  {
   "cell_type": "code",
   "execution_count": 59,
   "id": "7235e482-135f-4810-b378-b93a30d1d0e5",
   "metadata": {},
   "outputs": [],
   "source": [
    "# lt.remove() \n",
    "#show erroer bcoz value not define"
   ]
  },
  {
   "cell_type": "code",
   "execution_count": 61,
   "id": "2cf71ee5-c55d-4085-8553-a396a60a4ef8",
   "metadata": {},
   "outputs": [
    {
     "name": "stdout",
     "output_type": "stream",
     "text": [
      "[2, 5, 6, 7, 8, 9]\n"
     ]
    }
   ],
   "source": [
    "lt.pop(1)\n",
    "print(lt)"
   ]
  },
  {
   "cell_type": "code",
   "execution_count": 63,
   "id": "beb1f13e-50e6-4a14-96bb-6d20110fbf5b",
   "metadata": {},
   "outputs": [
    {
     "name": "stdout",
     "output_type": "stream",
     "text": [
      "[5, 6, 7, 8, 9]\n"
     ]
    }
   ],
   "source": [
    "lt.pop(0)\n",
    "print(lt)"
   ]
  },
  {
   "cell_type": "code",
   "execution_count": 67,
   "id": "2c17cf4b-e548-4b0e-9740-028594c532a2",
   "metadata": {},
   "outputs": [
    {
     "name": "stdout",
     "output_type": "stream",
     "text": [
      "[5, 6, 7, 8]\n"
     ]
    }
   ],
   "source": [
    "lt.pop()\n",
    "print(lt)"
   ]
  },
  {
   "cell_type": "code",
   "execution_count": 75,
   "id": "3b4133bf-aec4-4cf0-8912-c731206d934c",
   "metadata": {},
   "outputs": [
    {
     "data": {
      "text/plain": [
       "0"
      ]
     },
     "execution_count": 75,
     "metadata": {},
     "output_type": "execute_result"
    }
   ],
   "source": [
    "my=[1,1,2,3,85,1,2,1,2]\n",
    "my.count(1)\n",
    "my.count(85)\n",
    "my.count(99)"
   ]
  },
  {
   "cell_type": "code",
   "execution_count": 77,
   "id": "ff65c4db-8903-4418-b71b-94814a3f3344",
   "metadata": {},
   "outputs": [
    {
     "data": {
      "text/plain": [
       "0"
      ]
     },
     "execution_count": 77,
     "metadata": {},
     "output_type": "execute_result"
    }
   ],
   "source": [
    "my.index(1)"
   ]
  },
  {
   "cell_type": "code",
   "execution_count": 79,
   "id": "d2f76150-d8d8-44c5-a836-360b8e67fc15",
   "metadata": {},
   "outputs": [
    {
     "data": {
      "text/plain": [
       "0"
      ]
     },
     "execution_count": 79,
     "metadata": {},
     "output_type": "execute_result"
    }
   ],
   "source": [
    "my.index(1)"
   ]
  },
  {
   "cell_type": "code",
   "execution_count": 83,
   "id": "bfd4834c-15d8-4dc3-8898-f0a97fd9600e",
   "metadata": {},
   "outputs": [
    {
     "name": "stdout",
     "output_type": "stream",
     "text": [
      "[]\n"
     ]
    }
   ],
   "source": [
    "my.clear()\n",
    "print(my)"
   ]
  },
  {
   "cell_type": "code",
   "execution_count": null,
   "id": "a44983d7-a8bc-49fa-a24a-05ac209bdb0b",
   "metadata": {},
   "outputs": [],
   "source": []
  }
 ],
 "metadata": {
  "kernelspec": {
   "display_name": "Python 3 (ipykernel)",
   "language": "python",
   "name": "python3"
  },
  "language_info": {
   "codemirror_mode": {
    "name": "ipython",
    "version": 3
   },
   "file_extension": ".py",
   "mimetype": "text/x-python",
   "name": "python",
   "nbconvert_exporter": "python",
   "pygments_lexer": "ipython3",
   "version": "3.12.4"
  }
 },
 "nbformat": 4,
 "nbformat_minor": 5
}
