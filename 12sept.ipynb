{
 "cells": [
  {
   "cell_type": "code",
   "execution_count": 1,
   "id": "255919f3-4b7a-4029-bf0e-495920735c61",
   "metadata": {},
   "outputs": [
    {
     "data": {
      "text/plain": [
       "7"
      ]
     },
     "execution_count": 1,
     "metadata": {},
     "output_type": "execute_result"
    }
   ],
   "source": [
    "#List indexing and slicing\n",
    "#Indexing\n",
    "list1=[1,2,3,4,5,6,7,8]\n",
    "#positive indexing = 0 starting point ------(0,1,2,3,4.....)\n",
    "list1[6]\n"
   ]
  },
  {
   "cell_type": "code",
   "execution_count": 7,
   "id": "8fdbb7b3-b758-471e-83ef-e3efded706e4",
   "metadata": {},
   "outputs": [
    {
     "data": {
      "text/plain": [
       "4"
      ]
     },
     "execution_count": 7,
     "metadata": {},
     "output_type": "execute_result"
    }
   ],
   "source": [
    "#Negative indexing\n",
    "list1[-1] \n",
    "list1[-5]\n"
   ]
  },
  {
   "cell_type": "code",
   "execution_count": 9,
   "id": "e4d85c0e-65b7-4b91-ac08-de69b6686550",
   "metadata": {},
   "outputs": [
    {
     "data": {
      "text/plain": [
       "[1, 2, 3, 4, 5]"
      ]
     },
     "execution_count": 9,
     "metadata": {},
     "output_type": "execute_result"
    }
   ],
   "source": [
    "#Slicing \n",
    "# to slice a part of list or to get a part of list\n",
    "#[start:end+1:[stepsize]]\n",
    "\n",
    "list1[0:5]"
   ]
  },
  {
   "cell_type": "code",
   "execution_count": 11,
   "id": "bfa7df98-26a4-4ffb-92e8-0839edd95368",
   "metadata": {},
   "outputs": [
    {
     "data": {
      "text/plain": [
       "66"
      ]
     },
     "execution_count": 11,
     "metadata": {},
     "output_type": "execute_result"
    }
   ],
   "source": [
    "list2=[44,55,99,33,77,55,66,44,22,1,23,5,5,7]\n",
    "list2[6]"
   ]
  },
  {
   "cell_type": "code",
   "execution_count": 13,
   "id": "38505408-b6cc-4534-92bc-b5779b9dd13c",
   "metadata": {},
   "outputs": [
    {
     "data": {
      "text/plain": [
       "44"
      ]
     },
     "execution_count": 13,
     "metadata": {},
     "output_type": "execute_result"
    }
   ],
   "source": [
    "list2[0]"
   ]
  },
  {
   "cell_type": "code",
   "execution_count": 15,
   "id": "fdb2512a-8e7b-4fe0-82de-d1b0908dbd81",
   "metadata": {},
   "outputs": [
    {
     "data": {
      "text/plain": [
       "22"
      ]
     },
     "execution_count": 15,
     "metadata": {},
     "output_type": "execute_result"
    }
   ],
   "source": [
    "list2[8]"
   ]
  },
  {
   "cell_type": "code",
   "execution_count": 31,
   "id": "b3d254c5-5eaf-44af-a04d-d4164adffa5d",
   "metadata": {},
   "outputs": [
    {
     "data": {
      "text/plain": [
       "7"
      ]
     },
     "execution_count": 31,
     "metadata": {},
     "output_type": "execute_result"
    }
   ],
   "source": [
    "list2[13] "
   ]
  },
  {
   "cell_type": "code",
   "execution_count": 25,
   "id": "5f50f541-0e78-4160-9634-71baf3c60271",
   "metadata": {},
   "outputs": [
    {
     "data": {
      "text/plain": [
       "5"
      ]
     },
     "execution_count": 25,
     "metadata": {},
     "output_type": "execute_result"
    }
   ],
   "source": [
    "list2[11]"
   ]
  },
  {
   "cell_type": "code",
   "execution_count": 33,
   "id": "f38b44a1-d64d-4c68-9a8a-33cc5b400997",
   "metadata": {},
   "outputs": [
    {
     "data": {
      "text/plain": [
       "7"
      ]
     },
     "execution_count": 33,
     "metadata": {},
     "output_type": "execute_result"
    }
   ],
   "source": [
    "list2[-1]"
   ]
  },
  {
   "cell_type": "code",
   "execution_count": 35,
   "id": "f3756337-64d1-4afb-b6ea-cee82bc2604b",
   "metadata": {},
   "outputs": [
    {
     "data": {
      "text/plain": [
       "55"
      ]
     },
     "execution_count": 35,
     "metadata": {},
     "output_type": "execute_result"
    }
   ],
   "source": [
    "list2[-13]"
   ]
  },
  {
   "cell_type": "code",
   "execution_count": 37,
   "id": "605a1895-d751-419a-aa8d-838a3a68c1f1",
   "metadata": {},
   "outputs": [
    {
     "data": {
      "text/plain": [
       "66"
      ]
     },
     "execution_count": 37,
     "metadata": {},
     "output_type": "execute_result"
    }
   ],
   "source": [
    "list2[-8]"
   ]
  },
  {
   "cell_type": "code",
   "execution_count": 39,
   "id": "c86be570-2258-49c1-98ba-b7aa962a9f39",
   "metadata": {},
   "outputs": [
    {
     "data": {
      "text/plain": [
       "33"
      ]
     },
     "execution_count": 39,
     "metadata": {},
     "output_type": "execute_result"
    }
   ],
   "source": [
    "list2[-11]"
   ]
  },
  {
   "cell_type": "code",
   "execution_count": 41,
   "id": "2f902778-b5a0-4042-8afd-d5d9d6653f59",
   "metadata": {},
   "outputs": [
    {
     "data": {
      "text/plain": [
       "5"
      ]
     },
     "execution_count": 41,
     "metadata": {},
     "output_type": "execute_result"
    }
   ],
   "source": [
    "list2[-3]"
   ]
  },
  {
   "cell_type": "code",
   "execution_count": 43,
   "id": "b160ea96-c894-4192-bdaa-8e8afb5b3ac4",
   "metadata": {},
   "outputs": [
    {
     "data": {
      "text/plain": [
       "[9, 33, 77]"
      ]
     },
     "execution_count": 43,
     "metadata": {},
     "output_type": "execute_result"
    }
   ],
   "source": [
    "list3=[9,33,77,55,66,44,22,441,23,5,566,7]\n",
    "list3[0:3]\n"
   ]
  },
  {
   "cell_type": "code",
   "execution_count": 45,
   "id": "659c212e-a9c8-4bf2-b53f-f8dc8843d2be",
   "metadata": {},
   "outputs": [
    {
     "data": {
      "text/plain": [
       "[66, 44, 22, 441, 23]"
      ]
     },
     "execution_count": 45,
     "metadata": {},
     "output_type": "execute_result"
    }
   ],
   "source": [
    "list3[4:9]"
   ]
  },
  {
   "cell_type": "code",
   "execution_count": 49,
   "id": "d5842615-a2f2-4b77-a04f-9bbcb10282a5",
   "metadata": {},
   "outputs": [
    {
     "data": {
      "text/plain": [
       "[55, 66, 44, 22, 441, 23, 5, 566, 7]"
      ]
     },
     "execution_count": 49,
     "metadata": {},
     "output_type": "execute_result"
    }
   ],
   "source": [
    "list3[3:12]"
   ]
  },
  {
   "cell_type": "code",
   "execution_count": 51,
   "id": "b1978e3d-0c4e-4bfe-9c83-fc6a819ba777",
   "metadata": {},
   "outputs": [
    {
     "data": {
      "text/plain": [
       "[44, 22, 441, 23, 5, 566, 7]"
      ]
     },
     "execution_count": 51,
     "metadata": {},
     "output_type": "execute_result"
    }
   ],
   "source": [
    "list3[5:15]"
   ]
  },
  {
   "cell_type": "code",
   "execution_count": 53,
   "id": "da5641aa-2441-4e8a-97f8-76d4681d44dc",
   "metadata": {},
   "outputs": [
    {
     "data": {
      "text/plain": [
       "[22, 441, 23]"
      ]
     },
     "execution_count": 53,
     "metadata": {},
     "output_type": "execute_result"
    }
   ],
   "source": [
    "list3[6:9]"
   ]
  },
  {
   "cell_type": "code",
   "execution_count": 55,
   "id": "117f3bcd-f0cc-407d-9ca0-e49c998f8cfe",
   "metadata": {},
   "outputs": [
    {
     "data": {
      "text/plain": [
       "[77, 55, 66, 44, 22]"
      ]
     },
     "execution_count": 55,
     "metadata": {},
     "output_type": "execute_result"
    }
   ],
   "source": [
    "list3[2:7]"
   ]
  },
  {
   "cell_type": "code",
   "execution_count": 66,
   "id": "2f0f216d-2d79-4327-8558-280e2b6fa024",
   "metadata": {},
   "outputs": [
    {
     "data": {
      "text/plain": [
       "[66, 22, 23, 566]"
      ]
     },
     "execution_count": 66,
     "metadata": {},
     "output_type": "execute_result"
    }
   ],
   "source": [
    "li=[66,44,22,441,23,5,566,744,66,99,8,4]\n",
    "li[0:7:2]"
   ]
  },
  {
   "cell_type": "code",
   "execution_count": null,
   "id": "120a581c-2351-42b2-aa67-cbd126dd746d",
   "metadata": {},
   "outputs": [],
   "source": []
  }
 ],
 "metadata": {
  "kernelspec": {
   "display_name": "Python 3 (ipykernel)",
   "language": "python",
   "name": "python3"
  },
  "language_info": {
   "codemirror_mode": {
    "name": "ipython",
    "version": 3
   },
   "file_extension": ".py",
   "mimetype": "text/x-python",
   "name": "python",
   "nbconvert_exporter": "python",
   "pygments_lexer": "ipython3",
   "version": "3.12.4"
  }
 },
 "nbformat": 4,
 "nbformat_minor": 5
}
