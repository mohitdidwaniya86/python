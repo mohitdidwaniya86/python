{
 "cells": [
  {
   "cell_type": "code",
   "execution_count": 13,
   "id": "52b02f1f-39bd-41bb-bbd8-86cfedaf6bb2",
   "metadata": {},
   "outputs": [
    {
     "name": "stdin",
     "output_type": "stream",
     "text": [
      "enter your age 19\n"
     ]
    }
   ],
   "source": [
    "age=int(input('enter your age'))\n"
   ]
  },
  {
   "cell_type": "code",
   "execution_count": 3,
   "id": "c644968e-84f8-4b31-bc6a-f5d8d3397fde",
   "metadata": {},
   "outputs": [
    {
     "name": "stdout",
     "output_type": "stream",
     "text": [
      "you are not eligible\n"
     ]
    }
   ],
   "source": [
    "# if(age<=18):\n",
    "#     print('you are not eligible')\n",
    "# elif(age>=18):\n",
    "#     print('you are eligible')\n",
    "# else:\n",
    "#     print('not eligible')"
   ]
  },
  {
   "cell_type": "code",
   "execution_count": 15,
   "id": "33ba8005-9ce9-4c54-bc63-2fc3a16861ea",
   "metadata": {},
   "outputs": [
    {
     "name": "stdout",
     "output_type": "stream",
     "text": [
      "eligible\n"
     ]
    }
   ],
   "source": [
    "voter_id=True\n",
    "if((age>=18 ) and (voter_id==True)):\n",
    "   print('eligible')\n",
    "elif((age>=18 )and(voter_id==False)):\n",
    "   print('not eligible')\n",
    "else:\n",
    "     print('not eligible')"
   ]
  },
  {
   "cell_type": "code",
   "execution_count": 11,
   "id": "b37f5b2a-6a65-4b2d-8870-23a10c75e53c",
   "metadata": {},
   "outputs": [
    {
     "name": "stdin",
     "output_type": "stream",
     "text": [
      "enter your number 8\n",
      "enter your number 8\n",
      "enter your number 7\n"
     ]
    },
    {
     "name": "stdout",
     "output_type": "stream",
     "text": [
      "c is maximum\n"
     ]
    }
   ],
   "source": [
    "a= int(input('enter your number'))\n",
    "b= int(input('enter your number'))\n",
    "c= int(input('enter your number'))\n",
    "if(a>b and a>c):\n",
    "    print('a is maximum')\n",
    "elif(b>a and b>c):\n",
    "    print(' b is maximum')\n",
    "elif(a==b and a==c and b==c):\n",
    "    print(' all are equal')\n",
    "\n",
    "else:\n",
    "    print('c is maximum')\n",
    "    #homeworkkk\n",
    "    \n",
    "    \n",
    "\n",
    "\n"
   ]
  },
  {
   "cell_type": "code",
   "execution_count": 9,
   "id": "347dc91e-79e1-43f1-89ba-9266b5ef0921",
   "metadata": {},
   "outputs": [
    {
     "name": "stdin",
     "output_type": "stream",
     "text": [
      "enter your age 4\n",
      "please enter True\n"
     ]
    },
    {
     "name": "stdout",
     "output_type": "stream",
     "text": [
      "not match\n"
     ]
    }
   ],
   "source": [
    "age=int(input('enter your age'))\n",
    "licance=input('please enter')\n",
    "if(age>=18 and licance==True):\n",
    "    print('valid')\n",
    "elif(age>=18 and licance==False):\n",
    "    print('not valid')\n",
    "else:\n",
    "    print('not match')"
   ]
  },
  {
   "cell_type": "code",
   "execution_count": null,
   "id": "34a8205b-8603-4e00-b269-32a637836afb",
   "metadata": {},
   "outputs": [],
   "source": []
  }
 ],
 "metadata": {
  "kernelspec": {
   "display_name": "Python 3 (ipykernel)",
   "language": "python",
   "name": "python3"
  },
  "language_info": {
   "codemirror_mode": {
    "name": "ipython",
    "version": 3
   },
   "file_extension": ".py",
   "mimetype": "text/x-python",
   "name": "python",
   "nbconvert_exporter": "python",
   "pygments_lexer": "ipython3",
   "version": "3.12.4"
  }
 },
 "nbformat": 4,
 "nbformat_minor": 5
}
