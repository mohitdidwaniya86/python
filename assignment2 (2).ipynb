{
 "cells": [
  {
   "cell_type": "code",
   "execution_count": 1,
   "id": "ddb6bd77-44d7-4683-9b07-9e1cec3adab0",
   "metadata": {},
   "outputs": [],
   "source": [
    "#1 What is the syntax for an if statement in Python?\n",
    "#if(condition):\n",
    "    #code to execute\n",
    "#elif(condition):\n",
    "    #code to execute\n",
    "#else:\n",
    "    #code to execute\n"
   ]
  },
  {
   "cell_type": "code",
   "execution_count": 7,
   "id": "2dedf30d-1cde-4bc8-8c2f-de60d925f5c5",
   "metadata": {},
   "outputs": [
    {
     "name": "stdin",
     "output_type": "stream",
     "text": [
      "enter a number: 0\n"
     ]
    },
    {
     "name": "stdout",
     "output_type": "stream",
     "text": [
      "zero\n"
     ]
    }
   ],
   "source": [
    "#2 How do you write an if-else statement to check if a number is positive or negative?\n",
    "num=int(input('enter a number:'))\n",
    "if(num>0):\n",
    "    print('positive')\n",
    "elif(num<0):\n",
    "    print('negative')\n",
    "else:\n",
    "    print('zero')"
   ]
  },
  {
   "cell_type": "code",
   "execution_count": 9,
   "id": "69ff3722-5d42-4da5-9ad6-43bb198f63ed",
   "metadata": {},
   "outputs": [],
   "source": [
    "#3 What is the purpose of the elif keyword?\n",
    "#ans= it is used for multiple condition in program"
   ]
  },
  {
   "cell_type": "code",
   "execution_count": 13,
   "id": "ac6d03a4-a255-46f0-8f63-c5d9eb042846",
   "metadata": {},
   "outputs": [
    {
     "name": "stdin",
     "output_type": "stream",
     "text": [
      "enter a number: 3\n"
     ]
    },
    {
     "name": "stdout",
     "output_type": "stream",
     "text": [
      "False\n"
     ]
    }
   ],
   "source": [
    "#4 How do you check if a variable x is between 10 and 20 (inclusive)?\n",
    "num=int(input('enter a number:'))\n",
    "if(num>10 and num<20):\n",
    "    print(True)\n",
    "else:\n",
    "    print(False)\n"
   ]
  },
  {
   "cell_type": "code",
   "execution_count": 15,
   "id": "922b20ba-ee6b-4cd1-a0d0-6a26f71d865c",
   "metadata": {},
   "outputs": [],
   "source": [
    "#5 What is the result of an if statement when the condition is False?\n",
    "# ans= if ,if false than execute elif and else."
   ]
  },
  {
   "cell_type": "code",
   "execution_count": 17,
   "id": "f1c99fb3-c565-41a9-ad18-6ed2383ca7b6",
   "metadata": {},
   "outputs": [
    {
     "name": "stdin",
     "output_type": "stream",
     "text": [
      "enter your marks 45\n",
      "enter your marks 66\n",
      "enter your marks 23\n"
     ]
    },
    {
     "name": "stdout",
     "output_type": "stream",
     "text": [
      "44.666666666666664\n",
      "E grade\n"
     ]
    }
   ],
   "source": [
    "#6 How can you combine multiple conditions in a single if statement using and?\n",
    "maths=int(input(\"enter your marks\"))\n",
    "english=int(input(\"enter your marks\"))\n",
    "science=int(input(\"enter your marks\"))\n",
    "average=maths+english+science\n",
    "percent=(average/300)*100\n",
    "print(percent)\n",
    "if(percent>80 and percent<=100):\n",
    "    print(\"A grade\")\n",
    "elif(percent>60 and percent<=80):\n",
    "    print(\"B garde\")\n",
    "elif(percent>50 and percent<=60):\n",
    "    print(\"C grade\")\n",
    "elif(percent>45 and percent<=50):\n",
    "    print(\"D grade\")\n",
    "elif(percent>25 and percent<=45):\n",
    "    print(\"E grade\")\n",
    "elif(percent<25):\n",
    "    print(\"F garde\")\n",
    "else:\n",
    "    print(\"input is not valid\")"
   ]
  },
  {
   "cell_type": "code",
   "execution_count": 19,
   "id": "21fc28ae-1bdf-4466-a56a-a6fdf298ded6",
   "metadata": {},
   "outputs": [],
   "source": [
    "#7 What will be the output of an if-else statement if the condition is true?\n",
    "#ans = it will execute and give result."
   ]
  },
  {
   "cell_type": "code",
   "execution_count": 3,
   "id": "c8d5c611-77d3-436e-ba76-86f184e12994",
   "metadata": {},
   "outputs": [
    {
     "name": "stdin",
     "output_type": "stream",
     "text": [
      "enter a number: 6\n"
     ]
    },
    {
     "name": "stdout",
     "output_type": "stream",
     "text": [
      "True\n"
     ]
    }
   ],
   "source": [
    "#8 How do you use the or operator to check if at least one of two conditions is true?\n",
    "num=int(input('enter a number:'))\n",
    "if(num%2==0 or num%3==0):\n",
    "    print(True)\n",
    "else:\n",
    "    print('not match')\n",
    "\n"
   ]
  },
  {
   "cell_type": "code",
   "execution_count": 27,
   "id": "eb008f12-4c3e-4f6f-bdb4-c70b036a99d6",
   "metadata": {},
   "outputs": [],
   "source": [
    "#9 What is the difference between == and is in conditional statements?\n",
    "#(==)....>> it means equal\n",
    "#(is)...>> it is indicate location"
   ]
  },
  {
   "cell_type": "code",
   "execution_count": 7,
   "id": "23a18cbd-9949-4c2f-8e88-8adc356fcfcc",
   "metadata": {},
   "outputs": [
    {
     "data": {
      "text/plain": [
       "2"
      ]
     },
     "execution_count": 7,
     "metadata": {},
     "output_type": "execute_result"
    }
   ],
   "source": [
    "#10 How can you check if a string s is empty?\n",
    "s=''\n",
    "bool(s)\n",
    "#false mean string is empty\n",
    "\n",
    "q='mm'\n",
    "bool(q) # for True\n",
    "str='mk'\n",
    "len(str)\n",
    "\n"
   ]
  },
  {
   "cell_type": "code",
   "execution_count": 51,
   "id": "701db6d7-dadf-4760-8faa-49ef5a8e2c83",
   "metadata": {},
   "outputs": [
    {
     "name": "stdin",
     "output_type": "stream",
     "text": [
      "enter a number: 33\n"
     ]
    },
    {
     "name": "stdout",
     "output_type": "stream",
     "text": [
      "10 is greater than num\n"
     ]
    }
   ],
   "source": [
    "#11 What is the result of the following condition: if not (x >10)?\n",
    "num=int(input('enter a number:'))\n",
    "if(not num>10):\n",
    "    print(True)\n",
    "elif(num>10):\n",
    "    print('10 is greater than num')\n"
   ]
  },
  {
   "cell_type": "code",
   "execution_count": 57,
   "id": "01a9c589-2a9c-428e-86ae-db705d1e3552",
   "metadata": {},
   "outputs": [
    {
     "name": "stdin",
     "output_type": "stream",
     "text": [
      "enter a number: 1\n"
     ]
    },
    {
     "name": "stdout",
     "output_type": "stream",
     "text": [
      "odd\n"
     ]
    }
   ],
   "source": [
    "#12 How do you write a conditional statement to execute code only if a number is even?\n",
    "num=int(input('enter a number:'))\n",
    "if(num%2==0):\n",
    "    print('even')\n",
    "else:\n",
    "    print('odd')\n"
   ]
  },
  {
   "cell_type": "code",
   "execution_count": 61,
   "id": "d3ecc934-ae8c-4983-adce-9d5ac8538927",
   "metadata": {},
   "outputs": [
    {
     "name": "stdout",
     "output_type": "stream",
     "text": [
      "not\n"
     ]
    }
   ],
   "source": [
    "#13 How can you use an if statement to determine if a list is empty?\n",
    "list=[]\n",
    "if(len(list)==0):\n",
    "    print('empty')\n",
    "else:\n",
    "    print('not')\n"
   ]
  },
  {
   "cell_type": "code",
   "execution_count": 63,
   "id": "d9deda1d-fc99-4d03-9c8f-2165568dc920",
   "metadata": {},
   "outputs": [],
   "source": [
    "#14 What does the pass statement do in an if block?\n",
    "#nothing is printed but you avoid getting an error when empty code is not\n",
    "#allowed. Empty code is not allowed in loops, function definitions, class\n",
    "#definitions,\n",
    "# or in if statements."
   ]
  },
  {
   "cell_type": "code",
   "execution_count": 73,
   "id": "0ca593ec-338d-4d35-8597-c831f2cb2855",
   "metadata": {},
   "outputs": [
    {
     "name": "stdin",
     "output_type": "stream",
     "text": [
      "enter a number: 5\n",
      "enter a number: 22\n"
     ]
    },
    {
     "name": "stdout",
     "output_type": "stream",
     "text": [
      "even\n"
     ]
    }
   ],
   "source": [
    "#15 How can you nest if statements inside each other?\n",
    "num=int(input('enter a number:'))\n",
    "if not (num>10):\n",
    "    num=int(input('enter a number:'))\n",
    "    if(num%2==0):\n",
    "        print(\"even\")\n",
    "    else:\n",
    "        print(\"odd\")\n",
    "elif(num>10):\n",
    "    print('10 is greater than num')\n",
    "else:\n",
    "    print(\"input is not valid\")\n",
    "\n"
   ]
  },
  {
   "cell_type": "code",
   "execution_count": 75,
   "id": "3d84d249-844b-4b02-8a30-0aa527f776ea",
   "metadata": {},
   "outputs": [],
   "source": [
    "#16 What will be the result if no conditions in an if-elif-else chain are met?\n",
    "#Ans=not possible,becoz one condition must be run"
   ]
  },
  {
   "cell_type": "code",
   "execution_count": 79,
   "id": "827f42f2-3fa8-44a8-ae7a-81457f5e91c1",
   "metadata": {},
   "outputs": [
    {
     "name": "stdin",
     "output_type": "stream",
     "text": [
      "enter a number: 9\n"
     ]
    },
    {
     "name": "stdout",
     "output_type": "stream",
     "text": [
      "not match\n"
     ]
    }
   ],
   "source": [
    "#17 How do you check if a number is divisible by both 3 and 5 using an if statement?\n",
    "num=int(input('enter a number:'))\n",
    "if(num%3==0 and num%5==0):\n",
    "    print(' divisible by both')\n",
    "else:\n",
    "    print('not match')"
   ]
  },
  {
   "cell_type": "code",
   "execution_count": 9,
   "id": "381157f0-9c6d-44c2-92f4-b88b350437d6",
   "metadata": {},
   "outputs": [
    {
     "name": "stdout",
     "output_type": "stream",
     "text": [
      "x is small\n"
     ]
    }
   ],
   "source": [
    "#18 What is the result of the following if statement: if x &gt; 5: print(&quot;x is large&quot;) else: print(&quot;x is small&quot;)\n",
    "#where x is 3?\n",
    "x=3\n",
    "if(x>5):\n",
    "    print('x is large')\n",
    "\n",
    "else:\n",
    "    print('x is small')\n",
    "    \n"
   ]
  },
  {
   "cell_type": "code",
   "execution_count": null,
   "id": "2ac28883-134a-4d87-aff9-5d9170e13bbd",
   "metadata": {},
   "outputs": [],
   "source": []
  }
 ],
 "metadata": {
  "kernelspec": {
   "display_name": "Python 3 (ipykernel)",
   "language": "python",
   "name": "python3"
  },
  "language_info": {
   "codemirror_mode": {
    "name": "ipython",
    "version": 3
   },
   "file_extension": ".py",
   "mimetype": "text/x-python",
   "name": "python",
   "nbconvert_exporter": "python",
   "pygments_lexer": "ipython3",
   "version": "3.12.4"
  }
 },
 "nbformat": 4,
 "nbformat_minor": 5
}
