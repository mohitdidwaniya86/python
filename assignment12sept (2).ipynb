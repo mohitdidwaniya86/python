{
 "cells": [
  {
   "cell_type": "code",
   "execution_count": 1,
   "id": "f9994d99-68af-4325-81c2-56b724c24bd8",
   "metadata": {},
   "outputs": [],
   "source": [
    "#assignment.....>>>(list indexing and slicing)\n",
    "#1. What is list indexing in Python?\n",
    "#Ans= In python,indexing refers to the process of accessing a specific element in a list,using its position or index number.\n",
    "\n"
   ]
  },
  {
   "cell_type": "code",
   "execution_count": 3,
   "id": "e7a1860d-bac1-4b92-9d8f-2ce28751ba4b",
   "metadata": {},
   "outputs": [
    {
     "data": {
      "text/plain": [
       "5"
      ]
     },
     "execution_count": 3,
     "metadata": {},
     "output_type": "execute_result"
    }
   ],
   "source": [
    "#2. How do you access the first element of a list?\n",
    "my=[5,55,6,8,6]\n",
    "my[0]"
   ]
  },
  {
   "cell_type": "code",
   "execution_count": 5,
   "id": "0e52cb34-cbc5-4820-9244-2ead3e8f3647",
   "metadata": {},
   "outputs": [],
   "source": [
    "#3. What is the result of my_list[2] if my_list = [10, 20, 30, 40]?\n",
    "#Ans= 30"
   ]
  },
  {
   "cell_type": "code",
   "execution_count": 7,
   "id": "8e17de2b-8df8-45be-9ce4-c1729d98eba0",
   "metadata": {},
   "outputs": [
    {
     "data": {
      "text/plain": [
       "88"
      ]
     },
     "execution_count": 7,
     "metadata": {},
     "output_type": "execute_result"
    }
   ],
   "source": [
    "#4. How can you access the last element of a list?\n",
    "li=[4,5,9,3,88]\n",
    "li[4]"
   ]
  },
  {
   "cell_type": "code",
   "execution_count": 9,
   "id": "b361b03e-8a7b-40c5-a06a-28afcd362654",
   "metadata": {},
   "outputs": [],
   "source": [
    "#5. What will my_list[-1] return if my_list = [1, 2, 3, 4, 5]?\n",
    "#Ans = 5"
   ]
  },
  {
   "cell_type": "code",
   "execution_count": 11,
   "id": "c3242f58-95c4-4a94-b260-40983eaf46bb",
   "metadata": {},
   "outputs": [],
   "source": [
    "#6. How do you access a range of elements in a list?\n",
    "#Ans= using slicing,to slice a part of list or to get a part of list we use slicing.\n",
    "#syntax=[start:end:stepsize)=> range of elements"
   ]
  },
  {
   "cell_type": "code",
   "execution_count": 13,
   "id": "823cf121-cc40-4f23-b9e4-ae62cb352afe",
   "metadata": {},
   "outputs": [],
   "source": [
    "#7. What does my_list[1:4] return for my_list = [10, 20, 30, 40, 50]?\n",
    "#Ans = [20,30,40]"
   ]
  },
  {
   "cell_type": "code",
   "execution_count": 15,
   "id": "eaae00d0-d433-4be7-8130-f20c23c91946",
   "metadata": {},
   "outputs": [],
   "source": [
    "#8. What is the result of my_list[:3] if my_list = ['a' ,'b', 'c', 'd']?\n",
    "#Ans= ['a', 'b', 'c']\n"
   ]
  },
  {
   "cell_type": "code",
   "execution_count": 17,
   "id": "426f794d-a8a4-4822-91fb-3db984a9e53f",
   "metadata": {},
   "outputs": [
    {
     "data": {
      "text/plain": [
       "[6, 9, 77, 66, 66]"
      ]
     },
     "execution_count": 17,
     "metadata": {},
     "output_type": "execute_result"
    }
   ],
   "source": [
    "#9. How do you get a sublist from the beginning to a specified index\n",
    "list=[1,2,6,9,77,66,66,44,332,5]\n",
    "list[2:7]\n",
    "#split a list using slicing.\n"
   ]
  },
  {
   "cell_type": "code",
   "execution_count": 19,
   "id": "a1aec610-e5be-4749-8fbd-7011abc7f5c0",
   "metadata": {},
   "outputs": [],
   "source": [
    "#10. What will my_list[2:] return if my_list = [1, 2, 3, 4, 5]?\n",
    "#Ans=[3,4,5]"
   ]
  },
  {
   "cell_type": "code",
   "execution_count": 39,
   "id": "c0faa2e5-3fa9-4696-9727-457fff6387b2",
   "metadata": {},
   "outputs": [
    {
     "data": {
      "text/plain": [
       "[6, 5, 4, 3, 2, 1]"
      ]
     },
     "execution_count": 39,
     "metadata": {},
     "output_type": "execute_result"
    }
   ],
   "source": [
    "#11. How can you reverse a list using slicing?\n",
    "list1=[1,2,3,4,5,6]\n",
    "list1[-1:-7:-1]"
   ]
  },
  {
   "cell_type": "code",
   "execution_count": 41,
   "id": "d5d234a3-2f0f-43a2-8dc8-c547f48efaed",
   "metadata": {},
   "outputs": [],
   "source": [
    "#12. What does my_list[::-1] do if my_list = [1, 2, 3]?\n",
    "#Ans = [3,2,1]"
   ]
  },
  {
   "cell_type": "code",
   "execution_count": 45,
   "id": "1aa4476d-a281-4f28-b4db-ddc4bc58ebb6",
   "metadata": {},
   "outputs": [
    {
     "data": {
      "text/plain": [
       "[1, 3, 6, 9]"
      ]
     },
     "execution_count": 45,
     "metadata": {},
     "output_type": "execute_result"
    }
   ],
   "source": [
    "#13. How do you extract every second element from a list?\n",
    "m=[1,2,3,5,6,8,9,6]\n",
    "m[0:8:2]"
   ]
  },
  {
   "cell_type": "code",
   "execution_count": 47,
   "id": "a4a27cda-8abf-45bc-82b2-6e9c68ac1b1b",
   "metadata": {},
   "outputs": [],
   "source": [
    "#14. What will my_list[::2] return if my_list = [10, 20, 30, 40, 50]?\n",
    "#Ans=[10,30,50]"
   ]
  },
  {
   "cell_type": "code",
   "execution_count": 57,
   "id": "652b5be6-7f86-4eeb-bb86-96b4b440345f",
   "metadata": {},
   "outputs": [
    {
     "data": {
      "text/plain": [
       "[22, 11, 5, 44]"
      ]
     },
     "execution_count": 57,
     "metadata": {},
     "output_type": "execute_result"
    }
   ],
   "source": [
    "#15. Can you slice a list with a negative step? If so, how?\n",
    "li1=[4,66,3,77,89,9,44,5,11,22,33]\n",
    "li1[-2:-6:-1]\n"
   ]
  },
  {
   "cell_type": "code",
   "execution_count": 59,
   "id": "4dc505e0-f4d6-474f-9d35-8bb0c5ad01f3",
   "metadata": {},
   "outputs": [],
   "source": [
    "#16. What is the output of my_list[3:1:-1] if my_list = [5, 6, 7, 8, 9]?\n",
    "#Ans=[8,7]"
   ]
  },
  {
   "cell_type": "code",
   "execution_count": 61,
   "id": "55f7ac8e-1fe5-41fd-ba3c-84a22660e41e",
   "metadata": {},
   "outputs": [],
   "source": [
    "#17. How do you handle list indexing errors, such as accessing an out-of-range index?\n",
    "#Ans= by using range.\n"
   ]
  },
  {
   "cell_type": "code",
   "execution_count": 63,
   "id": "19b22c19-8026-4fb9-a50f-866377d8e1e3",
   "metadata": {},
   "outputs": [],
   "source": [
    "#18. What happens if you use an index greater than the length of the list?\n",
    "#Ans=give error."
   ]
  },
  {
   "cell_type": "code",
   "execution_count": 67,
   "id": "3dfbc3f7-216e-4ac2-92e3-d19c8f16cfab",
   "metadata": {},
   "outputs": [
    {
     "data": {
      "text/plain": [
       "[55, 4, 33]"
      ]
     },
     "execution_count": 67,
     "metadata": {},
     "output_type": "execute_result"
    }
   ],
   "source": [
    "#19. How do negative indices work in Python lists?\n",
    "#Ans= starts from -1 where -1 is starting point and so on..\n",
    "my_list=[4,6,33,4,55]\n",
    "my_list[-1:-4:-1]"
   ]
  },
  {
   "cell_type": "code",
   "execution_count": 69,
   "id": "31dd6689-7d16-40e9-b870-eb0ab599ad8e",
   "metadata": {},
   "outputs": [
    {
     "data": {
      "text/plain": [
       "[6, 7, 8]"
      ]
     },
     "execution_count": 69,
     "metadata": {},
     "output_type": "execute_result"
    }
   ],
   "source": [
    "#20. What does my_list[-3:] return if my_list = [4, 5, 6, 7, 8]?\n",
    "#Ans=[6,7,8]\n",
    "my_list = [4, 5, 6, 7, 8]\n",
    "my_list[-3:]\n"
   ]
  },
  {
   "cell_type": "code",
   "execution_count": 71,
   "id": "1aebb75a-0cea-4aec-8846-a524dff45e10",
   "metadata": {},
   "outputs": [
    {
     "data": {
      "text/plain": [
       "[1, 2, 3, 4, 5]"
      ]
     },
     "execution_count": 71,
     "metadata": {},
     "output_type": "execute_result"
    }
   ],
   "source": [
    "#21. How can you use slicing to create a copy of a list?\n",
    "m1=[1,2,3,4,5]\n",
    "m1[:]"
   ]
  },
  {
   "cell_type": "code",
   "execution_count": 73,
   "id": "a140599e-507a-47d0-bf1d-9becd61a62f5",
   "metadata": {},
   "outputs": [
    {
     "data": {
      "text/plain": [
       "[1, 4]"
      ]
     },
     "execution_count": 73,
     "metadata": {},
     "output_type": "execute_result"
    }
   ],
   "source": [
    "#22. What is the result of my_list[::3] for my_list = [1, 2, 3, 4, 5, 6]?\n",
    "#Ans= [1, 4]\n",
    "my_list = [1, 2, 3, 4, 5, 6]\n",
    "my_list[::3]\n"
   ]
  },
  {
   "cell_type": "code",
   "execution_count": 75,
   "id": "5fa813a5-2f3c-46f8-9f13-320388e7a9be",
   "metadata": {},
   "outputs": [
    {
     "data": {
      "text/plain": [
       "[2, 3, 4, 5]"
      ]
     },
     "execution_count": 75,
     "metadata": {},
     "output_type": "execute_result"
    }
   ],
   "source": [
    "#23. How can you use slicing to remove the first and last elements of a list?\n",
    "my_ = [1, 2, 3, 4, 5, 6]\n",
    "my_[1:5]"
   ]
  },
  {
   "cell_type": "code",
   "execution_count": 79,
   "id": "306fc18d-09e7-40ed-a270-80c60a3435e8",
   "metadata": {},
   "outputs": [
    {
     "data": {
      "text/plain": [
       "[20, 30, 40]"
      ]
     },
     "execution_count": 79,
     "metadata": {},
     "output_type": "execute_result"
    }
   ],
   "source": [
    "#24. What is the result of my_list[1:-1] if my_list = [10, 20, 30, 40, 50]?\n",
    "#Ans= [20, 30, 40]\n",
    "list4 = [10, 20, 30, 40, 50]\n",
    "list4[1:-1]\n",
    "\n"
   ]
  },
  {
   "cell_type": "code",
   "execution_count": 81,
   "id": "1411bfc0-cf97-4fc0-9dbe-0eb81b30501f",
   "metadata": {},
   "outputs": [
    {
     "data": {
      "text/plain": [
       "[]"
      ]
     },
     "execution_count": 81,
     "metadata": {},
     "output_type": "execute_result"
    }
   ],
   "source": [
    "#25. How can you check if a list is empty using slicing?\n",
    "a=[1,2,3,5,6,4]\n",
    "a[6:2:1]"
   ]
  },
  {
   "cell_type": "code",
   "execution_count": 83,
   "id": "47c83aa0-6a2b-4d42-9900-a63712ce3939",
   "metadata": {},
   "outputs": [],
   "source": [
    "#26. What does my_list[2:-2] return for my_list = [0, 1, 2, 3, 4, 5, 6]?\n",
    "#Ans = [2, 3, 4]"
   ]
  },
  {
   "cell_type": "code",
   "execution_count": 85,
   "id": "23bdb910-5ccb-46f4-aef4-c042f35bc144",
   "metadata": {},
   "outputs": [],
   "source": [
    "#27. How do list slicing and indexing differ when used with multidimensional lists?\n"
   ]
  },
  {
   "cell_type": "code",
   "execution_count": 91,
   "id": "ed643d47-adcd-4e37-a9ae-a38f1f73b449",
   "metadata": {},
   "outputs": [
    {
     "data": {
      "text/plain": [
       "[1, 2, 3, 4, 5, 6]"
      ]
     },
     "execution_count": 91,
     "metadata": {},
     "output_type": "execute_result"
    }
   ],
   "source": [
    "#28. What is the result of my_list[::]?\n",
    "my_list[::]"
   ]
  },
  {
   "cell_type": "code",
   "execution_count": 93,
   "id": "c0cfbdc5-9ef0-4129-b248-52b1fb032125",
   "metadata": {},
   "outputs": [],
   "source": [
    "#29. How do you use slicing to obtain a specific part of a list from a specific start and end index?\n",
    "#syntax=[start:end:stepsize]"
   ]
  },
  {
   "cell_type": "code",
   "execution_count": 95,
   "id": "4c3e39a3-e925-4058-80ad-2dd8bd56ebc5",
   "metadata": {},
   "outputs": [
    {
     "name": "stdout",
     "output_type": "stream",
     "text": [
      "[1, 2, 3, 7, 8, 9]\n"
     ]
    }
   ],
   "source": [
    "#30. How can you combine slices to extract different non-contiguous parts of a list?\n",
    "my_list=[1,2,3,4,5,6,7,8,9]\n",
    "part1=my_list[0:3]\n",
    "part2=my_list[6:9]\n",
    "result=part1+part2\n",
    "print(result)"
   ]
  },
  {
   "cell_type": "code",
   "execution_count": null,
   "id": "036bc991-2fbb-4387-bff5-809c7238803d",
   "metadata": {},
   "outputs": [],
   "source": []
  }
 ],
 "metadata": {
  "kernelspec": {
   "display_name": "Python 3 (ipykernel)",
   "language": "python",
   "name": "python3"
  },
  "language_info": {
   "codemirror_mode": {
    "name": "ipython",
    "version": 3
   },
   "file_extension": ".py",
   "mimetype": "text/x-python",
   "name": "python",
   "nbconvert_exporter": "python",
   "pygments_lexer": "ipython3",
   "version": "3.12.4"
  }
 },
 "nbformat": 4,
 "nbformat_minor": 5
}
