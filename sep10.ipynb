{
 "cells": [
  {
   "cell_type": "code",
   "execution_count": 13,
   "id": "52b02f1f-39bd-41bb-bbd8-86cfedaf6bb2",
   "metadata": {},
   "outputs": [
    {
     "name": "stdin",
     "output_type": "stream",
     "text": [
      "enter your age 19\n"
     ]
    }
   ],
   "source": [
    "age=int(input('enter your age'))\n"
   ]
  },
  {
   "cell_type": "code",
   "execution_count": 3,
   "id": "c644968e-84f8-4b31-bc6a-f5d8d3397fde",
   "metadata": {},
   "outputs": [
    {
     "name": "stdout",
     "output_type": "stream",
     "text": [
      "you are not eligible\n"
     ]
    }
   ],
   "source": [
    "# if(age<=18):\n",
    "#     print('you are not eligible')\n",
    "# elif(age>=18):\n",
    "#     print('you are eligible')\n",
    "# else:\n",
    "#     print('not eligible')"
   ]
  },
  {
   "cell_type": "code",
   "execution_count": 15,
   "id": "33ba8005-9ce9-4c54-bc63-2fc3a16861ea",
   "metadata": {},
   "outputs": [
    {
     "name": "stdout",
     "output_type": "stream",
     "text": [
      "eligible\n"
     ]
    }
   ],
   "source": [
    "voter_id=True\n",
    "if((age>=18 ) and (voter_id==True)):\n",
    "   print('eligible')\n",
    "elif((age>=18 )and(voter_id==False)):\n",
    "   print('not eligible')\n",
    "else:\n",
    "     print('not eligible')"
   ]
  },
  {
   "cell_type": "code",
   "execution_count": 164,
   "id": "b37f5b2a-6a65-4b2d-8870-23a10c75e53c",
   "metadata": {},
   "outputs": [
    {
     "name": "stdin",
     "output_type": "stream",
     "text": [
      "enter your number 4\n",
      "enter your number 4\n",
      "enter your number 2\n"
     ]
    },
    {
     "name": "stdout",
     "output_type": "stream",
     "text": [
      "a or b equal\n"
     ]
    }
   ],
   "source": [
    "a= int(input('enter your number'))\n",
    "b= int(input('enter your number'))\n",
    "c= int(input('enter your number'))\n",
    "if(a>b and a>c):\n",
    "    print('a is maximum')\n",
    "elif(b>a and b>c):\n",
    "    print(' b is maximum')\n",
    "elif(a==b and a==c ):\n",
    "    print(' all are equal')\n",
    "elif(b==c):\n",
    "    print(\"both are equal\")\n",
    "elif(a==c):\n",
    "    print(\"both a or c equal\")\n",
    "elif(a==b):\n",
    "    print('a or b equal')\n",
    "else:\n",
    "    print('c is maximum')\n",
    "    \n",
    "\n",
    "\n",
    "\n",
    "\n"
   ]
  },
  {
   "cell_type": "code",
   "execution_count": 9,
   "id": "347dc91e-79e1-43f1-89ba-9266b5ef0921",
   "metadata": {},
   "outputs": [
    {
     "name": "stdin",
     "output_type": "stream",
     "text": [
      "enter your age 4\n",
      "please enter True\n"
     ]
    },
    {
     "name": "stdout",
     "output_type": "stream",
     "text": [
      "not match\n"
     ]
    }
   ],
   "source": [
    "age=int(input('enter your age'))\n",
    "licance=input('please enter')\n",
    "if(age>=18 and licance==True):\n",
    "    print('valid')\n",
    "elif(age>=18 and licance==False):\n",
    "    print('not valid')\n",
    "else:\n",
    "    print('not match')"
   ]
  },
  {
   "cell_type": "code",
   "execution_count": 27,
   "id": "34a8205b-8603-4e00-b269-32a637836afb",
   "metadata": {},
   "outputs": [
    {
     "name": "stdin",
     "output_type": "stream",
     "text": [
      "enter no of holidays 4\n",
      "enter your salary 15000\n"
     ]
    },
    {
     "name": "stdout",
     "output_type": "stream",
     "text": [
      "14550.0\n"
     ]
    }
   ],
   "source": [
    "holiday=int(input(\"enter no of holidays\"))\n",
    "salary=int(input(\"enter your salary\"))\n",
    "if(holiday==1):\n",
    "    print(salary)\n",
    "elif(holiday>1 and holiday<=5):\n",
    "    total=salary/100*3\n",
    "    total_salary=salary-total\n",
    "    \n",
    "    print(total_salary)"
   ]
  },
  {
   "cell_type": "code",
   "execution_count": 49,
   "id": "67449a7f-dcb2-4816-9a1b-24a57b53dde5",
   "metadata": {},
   "outputs": [
    {
     "name": "stdout",
     "output_type": "stream",
     "text": [
      "1.6\n"
     ]
    }
   ],
   "source": [
    "\n",
    "percent=40/2500*100\n",
    "print(percent)\n",
    "    "
   ]
  },
  {
   "cell_type": "code",
   "execution_count": 53,
   "id": "effc6e55-4939-4d57-9ac3-25c5603757f8",
   "metadata": {},
   "outputs": [
    {
     "name": "stdout",
     "output_type": "stream",
     "text": [
      "0.9090909090909091\n"
     ]
    }
   ],
   "source": [
    "per=500/55000*100\n",
    "print(per)"
   ]
  },
  {
   "cell_type": "code",
   "execution_count": 59,
   "id": "5da077c8-f698-4b93-a195-e73d02c2b302",
   "metadata": {},
   "outputs": [
    {
     "name": "stdin",
     "output_type": "stream",
     "text": [
      "enter your number 56\n",
      "enter your number 89\n",
      "enter your number 45\n"
     ]
    },
    {
     "name": "stdout",
     "output_type": "stream",
     "text": [
      "190\n",
      "63.33333333333333\n",
      "C grade\n"
     ]
    }
   ],
   "source": [
    "n1=int(input('enter your number'))\n",
    "n2=int(input('enter your number'))\n",
    "n3=int(input('enter your number'))\n",
    "per=n1+n2+n3\n",
    "print(per)\n",
    "avg=(per/300)*100\n",
    "print(avg)\n",
    "if(avg>=80):\n",
    "    print(' A grade')\n",
    "elif(avg>=70 and avg<80):\n",
    "    print('B GRADE')\n",
    "elif(avg>=60 and avg<70):\n",
    "    print('C grade')\n",
    "elif(avg >=50 and avg<60):\n",
    "    print('D grade')\n",
    "elif(avg>=36 and avg<50):\n",
    "    print('E grade')\n",
    "else:\n",
    "    print(\"fail\")\n",
    "    \n",
    "    "
   ]
  },
  {
   "cell_type": "code",
   "execution_count": 75,
   "id": "e5b59fa1-266b-449a-8c5b-099cb2ae0829",
   "metadata": {},
   "outputs": [
    {
     "name": "stdin",
     "output_type": "stream",
     "text": [
      "enter your holidays 4\n",
      "enter your salary 15000\n"
     ]
    },
    {
     "name": "stdout",
     "output_type": "stream",
     "text": [
      "14250.0\n"
     ]
    }
   ],
   "source": [
    "holidays=int(input('enter your holidays'))\n",
    "salary=int(input('enter your salary'))\n",
    "if(holidays==1 ):\n",
    "    print(salary)\n",
    "\n",
    "elif(holidays>1 and holidays<=5):\n",
    "    salary_cut=salary/100*5\n",
    "total=salary-salary_cut\n",
    "   \n",
    "print(total)\n",
    "\n"
   ]
  },
  {
   "cell_type": "code",
   "execution_count": 89,
   "id": "72607418-0cf5-43f5-accd-b81fca28c71b",
   "metadata": {},
   "outputs": [
    {
     "name": "stdin",
     "output_type": "stream",
     "text": [
      "enter unit 40\n"
     ]
    },
    {
     "name": "stdout",
     "output_type": "stream",
     "text": [
      "400\n",
      "320.0\n"
     ]
    }
   ],
   "source": [
    "unit=int(input('enter unit'))\n",
    "amount=unit*10\n",
    "print(amount)\n",
    "if(unit>=10 and unit<=20):\n",
    "    print(amount)\n",
    "elif(unit>=20 and unit<=40):\n",
    "  x=amount/100*20\n",
    "total=amount-x\n",
    "print(total)\n"
   ]
  },
  {
   "cell_type": "code",
   "execution_count": 140,
   "id": "c919e14f-22ad-4caa-bd6c-598507342ef1",
   "metadata": {},
   "outputs": [
    {
     "name": "stdin",
     "output_type": "stream",
     "text": [
      "enter any character d\n"
     ]
    },
    {
     "name": "stdout",
     "output_type": "stream",
     "text": [
      "not match\n"
     ]
    }
   ],
   "source": [
    "temp=input('enter any character')\n",
    "if(temp=='f'):\n",
    "    fer=float(input('enter temp in f'))\n",
    "    \n",
    "    c=(fer-32)*5/9\n",
    "    print(\"temp converted f to c\",c)\n",
    "elif(temp=='c'):\n",
    "    cel=float(input('enter temp in c'))\n",
    "    f=(1.8*cel)+32\n",
    "    print('temp converted c to f',f)\n",
    "else:\n",
    "    print('not match')\n",
    "\n"
   ]
  },
  {
   "cell_type": "code",
   "execution_count": 158,
   "id": "f0409bc2-e2f5-4154-a87d-a2b8ffa06045",
   "metadata": {},
   "outputs": [
    {
     "name": "stdin",
     "output_type": "stream",
     "text": [
      "enter first num 44\n",
      "enter second num 77\n"
     ]
    },
    {
     "name": "stdout",
     "output_type": "stream",
     "text": [
      "a afetr swap 77\n",
      "b after swap 44\n"
     ]
    }
   ],
   "source": [
    "#swap without 3rd variable....>>\n",
    "a=int(input('enter first num'))\n",
    "b=int(input('enter second num'))\n",
    "a=a+b\n",
    "b=a-b\n",
    "a=a-b\n",
    "print('a afetr swap',a)\n",
    "print('b after swap',b)\n"
   ]
  },
  {
   "cell_type": "code",
   "execution_count": 160,
   "id": "d8e3eec1-6f7a-4656-8a5f-a303956f2ebe",
   "metadata": {
    "scrolled": true
   },
   "outputs": [
    {
     "name": "stdin",
     "output_type": "stream",
     "text": [
      "enter first num 6\n",
      "enter second num 9\n"
     ]
    },
    {
     "name": "stdout",
     "output_type": "stream",
     "text": [
      "a after swap 9\n",
      "b after swap 6\n"
     ]
    }
   ],
   "source": [
    "#swap with 3rd variable....>>\n",
    "a=int(input('enter first num'))\n",
    "b=int(input('enter second num'))\n",
    "c=a\n",
    "a=b\n",
    "b=c\n",
    "print('a after swap',a)\n",
    "print('b after swap',b)\n",
    "\n"
   ]
  },
  {
   "cell_type": "code",
   "execution_count": 170,
   "id": "c7ce8d84-ae06-4f62-8adb-678c57cab9f2",
   "metadata": {},
   "outputs": [
    {
     "name": "stdin",
     "output_type": "stream",
     "text": [
      "enter any number: 49\n"
     ]
    },
    {
     "name": "stdout",
     "output_type": "stream",
     "text": [
      "avha\n"
     ]
    }
   ],
   "source": [
    "num=int(input('enter any number:'))\n",
    "if(num%2==0 and  num%5==0):\n",
    "    print('gud')\n",
    "elif(num%7==0 ):\n",
    "    print('achaa')\n",
    "else:\n",
    "    print('not')\n",
    "    \n",
    "    "
   ]
  },
  {
   "cell_type": "code",
   "execution_count": null,
   "id": "87ecbda6-13be-4368-91f9-7c5e20347b17",
   "metadata": {},
   "outputs": [],
   "source": []
  }
 ],
 "metadata": {
  "kernelspec": {
   "display_name": "Python 3 (ipykernel)",
   "language": "python",
   "name": "python3"
  },
  "language_info": {
   "codemirror_mode": {
    "name": "ipython",
    "version": 3
   },
   "file_extension": ".py",
   "mimetype": "text/x-python",
   "name": "python",
   "nbconvert_exporter": "python",
   "pygments_lexer": "ipython3",
   "version": "3.12.4"
  }
 },
 "nbformat": 4,
 "nbformat_minor": 5
}
