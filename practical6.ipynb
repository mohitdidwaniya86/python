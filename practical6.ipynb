{
 "cells": [
  {
   "cell_type": "code",
   "execution_count": 19,
   "id": "b2aa10ca-1f16-4711-ab8b-ef2d373f1dfd",
   "metadata": {},
   "outputs": [
    {
     "name": "stdout",
     "output_type": "stream",
     "text": [
      "[1, 2, 9.8, True, 'hello']\n",
      "(1, 2, 9.6, True, 'hello')\n",
      "[264, 45.18, False, 'hitman']\n",
      "(45, 66.3, True, 'mohit')\n",
      "[1, 2, 5, 3, 100]\n"
     ]
    }
   ],
   "source": [
    "#DATATYPES\n",
    "\n",
    "#Numeric datatype---  datatype that includes numeric values\n",
    "   #integer--- contains integer values(-infinity to infinity)(-9,3....)\n",
    "  #float---- contains decimal point numbers(1.2,6.3)\n",
    "  #complex -----contains real and inaginary numbers(3+2j)(7-2j)............\n",
    "\n",
    "\n",
    "#CHARACTER datatypes\n",
    "  #string ---------character or sequence of character\n",
    "  #list----------ordered,mutable collection of multiple items that can be heterogeneous\n",
    "   #ordered\n",
    "   #mutable\n",
    "   #multiple items\n",
    "   #heterogeneous----different data types\n",
    "   #started and ended with 'square brackets'\n",
    "list=[1,2,9.8,True,'hello']\n",
    "print(list)\n",
    "  #tuple------ordered, immutable collection of items that can  be heterogeneous\n",
    "  #started and ended with parentheses\n",
    "  #ordered\n",
    "  #immutable\n",
    "  #multiple items\n",
    "  #heterogeneous\n",
    "tuple1=(1,2,9.6,True,'hello')\n",
    "print(tuple1)\n",
    "\n",
    "mylist=[264,45.18,False,'hitman']\n",
    "print(mylist)\n",
    "\n",
    "tuple2=(45,66.3,True,'mohit')\n",
    "print(tuple2)\n",
    "\n",
    "#list methods\n",
    "#append() , extend(), insert(), remove(), pop(), clear(), index(), count(), sort(),reverse(), copy()\n",
    "\n",
    "\n",
    "#append---adds a single element to the end of the list\n",
    "li=[1,2,5,3]\n",
    "li.append(100)\n",
    "print(li)\n",
    "\n",
    "\n",
    "\n",
    "\n"
   ]
  },
  {
   "cell_type": "code",
   "execution_count": 21,
   "id": "41ddb517-2984-4837-a467-cb224c96d465",
   "metadata": {},
   "outputs": [
    {
     "name": "stdout",
     "output_type": "stream",
     "text": [
      "[1, 2, 5, 3, 100, 1, 5, 9, 23]\n"
     ]
    }
   ],
   "source": [
    "#extend-----adds multiple elements or a new list to the exisiting list\n",
    "li.extend([1,5,9,23])\n",
    "print(li)"
   ]
  },
  {
   "cell_type": "code",
   "execution_count": 23,
   "id": "2a18c551-8c6a-43f5-9c0b-21c358a8cdfb",
   "metadata": {},
   "outputs": [
    {
     "name": "stdout",
     "output_type": "stream",
     "text": [
      "[1, 2, 45, 5, 3, 100, 1, 5, 9, 23]\n"
     ]
    }
   ],
   "source": [
    "#insert --------adds the element to a specefic position\n",
    "li.insert(2,45)\n",
    "print(li)"
   ]
  },
  {
   "cell_type": "code",
   "execution_count": 25,
   "id": "f0bc3f35-c1cb-4d30-b993-b029ecbfb33f",
   "metadata": {},
   "outputs": [
    {
     "name": "stdout",
     "output_type": "stream",
     "text": [
      "[1, 2, 45, 5, 3, 1, 5, 9, 23]\n"
     ]
    }
   ],
   "source": [
    "#Remove------removes a specefic element\n",
    "  # throws error if the element is not present\n",
    "li.remove(100)\n",
    "print(li)"
   ]
  },
  {
   "cell_type": "code",
   "execution_count": 29,
   "id": "0937010b-8d69-4b20-a154-abc5c8ef9fea",
   "metadata": {},
   "outputs": [],
   "source": [
    "# li.remove(100)\n",
    "# print(li) \n",
    "#show erros bcoz element not present in list"
   ]
  },
  {
   "cell_type": "code",
   "execution_count": 35,
   "id": "d8c23f86-7c8f-426a-aa4d-2bf6b1142135",
   "metadata": {},
   "outputs": [
    {
     "name": "stdout",
     "output_type": "stream",
     "text": [
      "[4, 6, 3.6, True, 'raja', 'king', True, 5.6]\n"
     ]
    }
   ],
   "source": [
    "#practice\n",
    "maa=[4,6,3.6,True,'raja']\n",
    "maa.append('king')\n",
    "maa.append(True)\n",
    "maa.append(5.6)\n",
    "print(maa)"
   ]
  },
  {
   "cell_type": "code",
   "execution_count": 51,
   "id": "fe9cf7ff-109f-486f-9e59-f607b0a9fcb7",
   "metadata": {},
   "outputs": [
    {
     "name": "stdout",
     "output_type": "stream",
     "text": [
      "[4, 6, 3.6, 10000, True, 'king', True, 5.6, 4, 544, 5, 2, 5]\n"
     ]
    }
   ],
   "source": [
    "maa.extend([2,5])\n",
    "print(maa)"
   ]
  },
  {
   "cell_type": "code",
   "execution_count": 75,
   "id": "9a088092-434f-49f0-a280-60d346c2e444",
   "metadata": {},
   "outputs": [
    {
     "name": "stdout",
     "output_type": "stream",
     "text": [
      "[6, 3.6, 10000, True, 'king', True, 5.6, 4, 544, 5, 2, 5, 'jaipur', 'jaipur', 45]\n"
     ]
    }
   ],
   "source": [
    "maa.insert(10000,45)\n",
    "print(maa)"
   ]
  },
  {
   "cell_type": "code",
   "execution_count": 63,
   "id": "57880ae4-41f8-40ce-9174-27b6dd7a8db9",
   "metadata": {},
   "outputs": [
    {
     "name": "stdout",
     "output_type": "stream",
     "text": [
      "[6, 3.6, 10000, True, 'king', True, 5.6, 4, 544, 5, 2, 5]\n"
     ]
    }
   ],
   "source": [
    "maa.remove(4)\n",
    "print(maa)"
   ]
  },
  {
   "cell_type": "code",
   "execution_count": 77,
   "id": "f51d4907-7c10-490e-a52c-7b1319e965ed",
   "metadata": {},
   "outputs": [
    {
     "name": "stdout",
     "output_type": "stream",
     "text": [
      "[6, 3.6, True, 'king', True, 5.6, 4, 544, 5, 2, 5, 'jaipur', 'jaipur', 45]\n"
     ]
    }
   ],
   "source": [
    "#pop-----removes the element on the position given\n",
    "\n",
    "maa.pop(2)\n",
    "print(maa)"
   ]
  },
  {
   "cell_type": "code",
   "execution_count": 79,
   "id": "938cf5ab-d074-424e-8f8a-4b1ac11f2da0",
   "metadata": {},
   "outputs": [
    {
     "name": "stdout",
     "output_type": "stream",
     "text": [
      "[6, 3.6, True, 'king', True, 5.6, 4, 544, 5, 2, 5, 'jaipur', 'jaipur']\n"
     ]
    }
   ],
   "source": [
    "maa.pop()\n",
    "print(maa)\n",
    "\n",
    "#by default remove last element of list"
   ]
  },
  {
   "cell_type": "code",
   "execution_count": 83,
   "id": "f8f7eaa6-1d77-43dc-8106-7404557cee68",
   "metadata": {},
   "outputs": [],
   "source": [
    "# maa.remove()\n",
    "# print(maa)   \n",
    "#will give error"
   ]
  },
  {
   "cell_type": "code",
   "execution_count": 85,
   "id": "cb092148-3ab6-4b23-a95f-6e5ec97bb1b0",
   "metadata": {},
   "outputs": [
    {
     "name": "stdout",
     "output_type": "stream",
     "text": [
      "[]\n"
     ]
    }
   ],
   "source": [
    "#clear------will remove all the elements\n",
    "maa.clear()\n",
    "print(maa)\n",
    "#will remove the elements the structure will be there as it is\n",
    "#[]"
   ]
  },
  {
   "cell_type": "code",
   "execution_count": 91,
   "id": "ede7d953-54af-40a9-bf64-472605847075",
   "metadata": {},
   "outputs": [
    {
     "data": {
      "text/plain": [
       "1"
      ]
     },
     "execution_count": 91,
     "metadata": {},
     "output_type": "execute_result"
    }
   ],
   "source": [
    "l1=[1,2,5,6,2,2,1,3,2.5,8,4]\n",
    "l1.index(1)\n",
    "l1.index(2)\n",
    "#will give the index of the first occurance of the element"
   ]
  },
  {
   "cell_type": "code",
   "execution_count": 93,
   "id": "932fdba7-9087-4925-bb15-0e03457c5021",
   "metadata": {},
   "outputs": [
    {
     "data": {
      "text/plain": [
       "3"
      ]
     },
     "execution_count": 93,
     "metadata": {},
     "output_type": "execute_result"
    }
   ],
   "source": [
    "l1.count(2)\n"
   ]
  },
  {
   "cell_type": "code",
   "execution_count": 103,
   "id": "8a2809e4-4546-4d60-aeba-bb91a52028ab",
   "metadata": {},
   "outputs": [
    {
     "name": "stdout",
     "output_type": "stream",
     "text": [
      "[4, 55, 2, 2, 6, 5, 4, 2, 2]\n"
     ]
    }
   ],
   "source": [
    "new=[4,55,2,2,2.3,6,5,4,2,2]\n",
    "new.pop(4)\n",
    "print(new)"
   ]
  },
  {
   "cell_type": "code",
   "execution_count": 99,
   "id": "13301c7b-0a7c-4a21-bc2c-e3e68265dae8",
   "metadata": {},
   "outputs": [
    {
     "data": {
      "text/plain": [
       "2"
      ]
     },
     "execution_count": 99,
     "metadata": {},
     "output_type": "execute_result"
    }
   ],
   "source": [
    "new.index(2)"
   ]
  },
  {
   "cell_type": "code",
   "execution_count": 101,
   "id": "a7ac8420-064d-41cb-b1df-92e41ca4525f",
   "metadata": {},
   "outputs": [
    {
     "data": {
      "text/plain": [
       "2"
      ]
     },
     "execution_count": 101,
     "metadata": {},
     "output_type": "execute_result"
    }
   ],
   "source": [
    "new.count(4)"
   ]
  },
  {
   "cell_type": "code",
   "execution_count": 105,
   "id": "8c229054-bbf9-407c-b364-0bc1c29ed242",
   "metadata": {},
   "outputs": [
    {
     "data": {
      "text/plain": [
       "4"
      ]
     },
     "execution_count": 105,
     "metadata": {},
     "output_type": "execute_result"
    }
   ],
   "source": [
    "new.count(2)"
   ]
  },
  {
   "cell_type": "code",
   "execution_count": 109,
   "id": "26029399-d6ea-4eba-b8fe-dc4b292faf84",
   "metadata": {},
   "outputs": [
    {
     "name": "stdout",
     "output_type": "stream",
     "text": [
      "[4, 55, 2, 2, 6, 5, 4]\n"
     ]
    }
   ],
   "source": [
    "new.pop()\n",
    "print(new)"
   ]
  },
  {
   "cell_type": "code",
   "execution_count": 111,
   "id": "d10c1d54-b3fe-49a8-bb16-65c56b09f3e9",
   "metadata": {},
   "outputs": [],
   "source": [
    "new.clear()"
   ]
  },
  {
   "cell_type": "code",
   "execution_count": null,
   "id": "0bc876b1-7658-49c4-a168-d6ca696105b9",
   "metadata": {},
   "outputs": [],
   "source": []
  }
 ],
 "metadata": {
  "kernelspec": {
   "display_name": "Python 3 (ipykernel)",
   "language": "python",
   "name": "python3"
  },
  "language_info": {
   "codemirror_mode": {
    "name": "ipython",
    "version": 3
   },
   "file_extension": ".py",
   "mimetype": "text/x-python",
   "name": "python",
   "nbconvert_exporter": "python",
   "pygments_lexer": "ipython3",
   "version": "3.12.4"
  }
 },
 "nbformat": 4,
 "nbformat_minor": 5
}
